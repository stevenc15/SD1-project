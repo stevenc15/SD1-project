{
 "cells": [
  {
   "cell_type": "code",
   "execution_count": 29,
   "metadata": {},
   "outputs": [],
   "source": [
    "#imports\n",
    "import sys #you need this to add path to utils folder\n",
    "sys.path.append('../utils') #now you can import from utils folder\n",
    "# sys.path.append(\"../..\")\n",
    "from configs import config_general\n",
    "from datasharders import datasharder_imu_joints\n",
    "from datasetscopy import ImuJointPairDataset\n",
    "from data_utils import fft_filter_signal, wavelet_filter_signal"
   ]
  },
  {
   "cell_type": "code",
   "execution_count": 28,
   "metadata": {},
   "outputs": [
    {
     "name": "stdout",
     "output_type": "stream",
     "text": [
      "Help on class config_general in module configs:\n",
      "\n",
      "class config_general(builtins.object)\n",
      " |  config_general(**kwargs)\n",
      " |\n",
      " |  Methods defined here:\n",
      " |\n",
      " |  __init__(self, **kwargs)\n",
      " |      Initialize self.  See help(type(self)) for accurate signature.\n",
      " |\n",
      " |  ----------------------------------------------------------------------\n",
      " |  Data descriptors defined here:\n",
      " |\n",
      " |  __dict__\n",
      " |      dictionary for instance variables\n",
      " |\n",
      " |  __weakref__\n",
      " |      list of weak references to the object\n",
      " |\n",
      " |  ----------------------------------------------------------------------\n",
      " |  Data and other attributes defined here:\n",
      " |\n",
      " |  device = 'cpu'\n",
      "\n"
     ]
    }
   ],
   "source": [
    "help(config_general)"
   ]
  },
  {
   "cell_type": "code",
   "execution_count": 30,
   "metadata": {},
   "outputs": [],
   "source": [
    "#possible imports\n",
    "import torch\n",
    "import torch.nn as nn\n",
    "import torchaudio.transforms as T\n",
    "import numpy as np\n",
    "from scipy.io import wavfile\n",
    "from torch.utils.data import Dataset\n",
    "import os\n",
    "import matplotlib.pyplot as plt"
   ]
  },
  {
   "cell_type": "code",
   "execution_count": 31,
   "metadata": {},
   "outputs": [],
   "source": [
    "#model class #MODEL\n",
    "class DeepLSTMModel(nn.Module):\n",
    "    def __init__(self, input_size, hidden_size, num_layers, output_size):\n",
    "        super(DeepLSTMModel, self).__init__()\n",
    "        self.lstm = nn.LSTM(input_size, hidden_size, num_layers, batch_first=True)\n",
    "        self.fc1 = nn.Linear(hidden_size, hidden_size)\n",
    "        self.relu = nn.ReLU()\n",
    "        self.fc2 = nn.Linear(hidden_size, output_size)\n",
    "\n",
    "    def forward(self, x):\n",
    "        h_0 = torch.zeros(self.lstm.num_layers, x.size(0), self.lstm.hidden_size).to(x.device)\n",
    "        c_0 = torch.zeros(self.lstm.num_layers, x.size(0), self.lstm.hidden_size).to(x.device)\n",
    "        \n",
    "        out, _ = self.lstm(x, (h_0, c_0))\n",
    "        out = self.fc1(out)\n",
    "        out = self.relu(out)\n",
    "        out = self.fc2(out)\n",
    "        return out"
   ]
  },
  {
   "cell_type": "code",
   "execution_count": 32,
   "metadata": {},
   "outputs": [],
   "source": [
    "#config definition\n",
    "#some config errors\n",
    "config = config_general( #these are just example values we will change them according to model\n",
    "    batch_size = 64 , #check\n",
    "    epochs = 1000, #check\n",
    "    lr = .002, #check\n",
    "    scheduler = None , #check\n",
    "    num_channels_imu = 3, #check\n",
    "    num_channels_joints = 3, #check\n",
    "    num_sessions = 1, #check\n",
    "    seed = 42, #check\n",
    "    data_folder_name = \"../../datacollection/data\", #check\n",
    "    dataset_root = \"../../datasets\", #check\n",
    "    #dataset_name = \"example_dataset\",\n",
    "    dataset_train_name = \"train_dataset\", #check\n",
    "    dataset_test_name = \"test_dataset\", #check\n",
    "    num_patients = 3, #check\n",
    "    window_length = 1000, #check\n",
    "    #emg_transforms = [],\n",
    "    imu_transforms = [fft_filter_signal], #check\n",
    "    joint_transforms = [], #check\n",
    "    hidden_size = 256,\n",
    "    num_layers = 6, \n",
    "    input_size = 3,\n",
    "    output_size = 3\n",
    ")"
   ]
  },
  {
   "cell_type": "code",
   "execution_count": null,
   "metadata": {},
   "outputs": [],
   "source": [
    "from torch.utils.data import DataLoader\n",
    "\n",
    "train_dataloader = DataLoader(dataset_train, batch_size=64, shuffle=True)\n",
    "test_dataloader = DataLoader(dataset_test, batch_size=64, shuffle=True)"
   ]
  },
  {
   "cell_type": "code",
   "execution_count": null,
   "metadata": {},
   "outputs": [],
   "source": [
    "train_dataloader, test_dataloader"
   ]
  },
  {
   "cell_type": "code",
   "execution_count": null,
   "metadata": {},
   "outputs": [],
   "source": [
    "train_features, train_labels = next(iter(train_dataloader))\n",
    "print(f\"Feature batch shape: {train_features.size()}\")\n",
    "print(f\"Labels batch shape: {train_labels.size()}\")"
   ]
  },
  {
   "cell_type": "code",
   "execution_count": 33,
   "metadata": {},
   "outputs": [],
   "source": [
    "#main function that runs everything #TESTING\n",
    "def main(config):\n",
    "    \n",
    "    #device definition?\n",
    "    device = torch.device('cuda' if torch.cuda.is_available() else 'cpu')\n",
    "    \n",
    "    model = DeepLSTMModel(input_size=config.input_size, hidden_size=config.hidden_size, num_layers=config.num_layers, output_size=config.output_size).to(device)\n",
    "    criterion = nn.MSELoss(), #changes depending on model\n",
    "    optimizer = torch.optim.Adam(model.parameters(), lr=config.lr), #changes depending on model\n",
    "   \n",
    "    \n",
    "    #remake_dataset false if no changes made, true if changes need to be made \n",
    "    remake_dataset = True\n",
    "    \n",
    "    if(remake_dataset):\n",
    "    \n",
    "        #call datasharder on config \n",
    "        datasharder = datasharder_imu_joints(config, sample_rate=16000)\n",
    "    \n",
    "        #access data from datasharder\n",
    "        training_data, testing_data = datasharder.load_data()\n",
    "    \n",
    "        #print shape\n",
    "        print(training_data.data.shape)\n",
    "        print(testing_data.data.shape)\n",
    "    \n",
    "        #save windowed data to config specified destination\n",
    "        datasharder.save_windowed_data(training_data, \"train\")\n",
    "        datasharder.save_windowed_data(testing_data, \"test\")\n",
    "    \n",
    "   #split dataset into train and test\n",
    "    dataset_train = ImuJointPairDataset(config, \"train\")\n",
    "    dataset_test = ImuJointPairDataset(config, \"test\")\n",
    "    len(dataset_train), len(dataset_test)\n",
    "    #STOP \n",
    "    \n",
    "    imu_data_tensor,joint_data_tensor=dataset_train.__getitem__(1, \"train\")\n",
    "\n",
    "    print(imu_data_tensor.shape, joint_data_tensor.shape)\n",
    "    \n",
    "    #convert to numpy\n",
    "    imu_data = imu_data_tensor.numpy().squeeze(0)\n",
    "    joint_data = joint_data_tensor.numpy().squeeze(0)\n",
    "    import matplotlib.pyplot as plt\n",
    "    import seaborn as sns\n",
    "    sns.set(style=\"ticks\")\n",
    "    plt.plot(imu_data[:,1], label=\"imu\")\n",
    "    plt.plot(joint_data[:,1], label=\"joint\")\n",
    "    plt.legend()\n",
    "    plt.show()\n"
   ]
  },
  {
   "cell_type": "code",
   "execution_count": null,
   "metadata": {},
   "outputs": [],
   "source": [
    "\n",
    "    #train model\n",
    "    train_losses, val_losses = train_model(model, train_loader, val_loader, num_epochs, criterion, optimizer, device)\n",
    "    \n",
    "    # Plot training and validation loss history\n",
    "    plot_loss(train_losses, val_losses)\n",
    "    \n",
    "    # Evaluate model on validation and test sets and plot predictions\n",
    "    val_inputs, val_targets, val_predictions = evaluate_model(model, val_loader, device)\n",
    "    plot_predictions(val_inputs.squeeze(), val_targets.squeeze(), val_predictions.squeeze(), num_channels=3)\n",
    "\n",
    "    test_inputs, test_targets, test_predictions = evaluate_model(model, test_loader, device)\n",
    "    plot_predictions(test_inputs.squeeze(), test_targets.squeeze(), test_predictions.squeeze(), num_channels=3)\n",
    "    \n",
    "''''\n",
    "def main(input_wav, target_wav, sample_rate=16000, hidden_size=256, num_layers=6, num_epochs=1000, batch_size=64, learning_rate=0.002):\n",
    "   \n",
    "    #device definition?\n",
    "    device = torch.device('cuda' if torch.cuda.is_available() else 'cpu')\n",
    "\n",
    "    #dataset definition given exact imu and joint data files\n",
    "    dataset = AudioDataset(input_wav, target_wav, sample_rate)\n",
    "    \n",
    "    #datasets defined and ready\n",
    "    input_wav = dataset.input_wav\n",
    "    target_wav = dataset.target_wav\n",
    "\n",
    "    #plot standard data \n",
    "    plt.plot(input_wav)\n",
    "    plt.title('Input IMU')\n",
    "    plt.show()\n",
    "    plt.plot(target_wav)\n",
    "    plt.title('Target Joints')\n",
    "    plt.show()\n",
    "    \n",
    "    # Split dataset, implement LOSOCV here\n",
    "    train_size = int(0.8 * len(dataset))\n",
    "    val_size = int(0.1 * len(dataset))\n",
    "    test_size = len(dataset) - train_size - val_size\n",
    "    train_dataset, val_dataset, test_dataset = random_split(dataset, [train_size, val_size, test_size])\n",
    "\n",
    "    #split data into loader objects\n",
    "    train_loader = DataLoader(train_dataset, batch_size=batch_size, shuffle=True)\n",
    "    val_loader = DataLoader(val_dataset, batch_size=batch_size, shuffle=False)\n",
    "    test_loader = DataLoader(test_dataset, batch_size=batch_size, shuffle=False)\n",
    "\n",
    "    # Update input_size and output_size to match the number of features, define stuff like model, criterion and optimizer\n",
    "    model = DeepLSTMModel(input_size=3, hidden_size=hidden_size, num_layers=num_layers, output_size=3).to(device)\n",
    "    criterion = nn.MSELoss()\n",
    "    optimizer = torch.optim.Adam(model.parameters(), lr=learning_rate)\n",
    "\n",
    "    #train model\n",
    "    train_losses, val_losses = train_model(model, train_loader, val_loader, num_epochs, criterion, optimizer, device)\n",
    "    \n",
    "    # Plot training and validation loss history\n",
    "    plot_loss(train_losses, val_losses)\n",
    "    \n",
    "    # Evaluate model on validation and test sets and plot predictions\n",
    "    val_inputs, val_targets, val_predictions = evaluate_model(model, val_loader, device)\n",
    "    plot_predictions(val_inputs.squeeze(), val_targets.squeeze(), val_predictions.squeeze(), num_channels=3)\n",
    "\n",
    "    test_inputs, test_targets, test_predictions = evaluate_model(model, test_loader, device)\n",
    "    plot_predictions(test_inputs.squeeze(), test_targets.squeeze(), test_predictions.squeeze(), num_channels=3)\n",
    "''''"
   ]
  },
  {
   "cell_type": "code",
   "execution_count": 34,
   "metadata": {},
   "outputs": [
    {
     "ename": "AttributeError",
     "evalue": "'config_general' object has no attribute 'num_patients'",
     "output_type": "error",
     "traceback": [
      "\u001b[0;31m---------------------------------------------------------------------------\u001b[0m",
      "\u001b[0;31mAttributeError\u001b[0m                            Traceback (most recent call last)",
      "Cell \u001b[0;32mIn[34], line 2\u001b[0m\n\u001b[1;32m      1\u001b[0m \u001b[38;5;66;03m#use main function accessing imu and joint data files directly\u001b[39;00m\n\u001b[0;32m----> 2\u001b[0m \u001b[43mmain\u001b[49m\u001b[43m(\u001b[49m\u001b[43mconfig\u001b[49m\u001b[43m)\u001b[49m\n",
      "Cell \u001b[0;32mIn[33], line 21\u001b[0m, in \u001b[0;36mmain\u001b[0;34m(config)\u001b[0m\n\u001b[1;32m     18\u001b[0m datasharder \u001b[38;5;241m=\u001b[39m datasharder_imu_joints(config, sample_rate\u001b[38;5;241m=\u001b[39m\u001b[38;5;241m16000\u001b[39m)\n\u001b[1;32m     20\u001b[0m \u001b[38;5;66;03m#access data from datasharder\u001b[39;00m\n\u001b[0;32m---> 21\u001b[0m training_data, testing_data \u001b[38;5;241m=\u001b[39m \u001b[43mdatasharder\u001b[49m\u001b[38;5;241;43m.\u001b[39;49m\u001b[43mload_data\u001b[49m\u001b[43m(\u001b[49m\u001b[43m)\u001b[49m\n\u001b[1;32m     23\u001b[0m \u001b[38;5;66;03m#print shape\u001b[39;00m\n\u001b[1;32m     24\u001b[0m \u001b[38;5;28mprint\u001b[39m(training_data\u001b[38;5;241m.\u001b[39mdata\u001b[38;5;241m.\u001b[39mshape)\n",
      "File \u001b[0;32m~/Desktop/SD/SD1-project/ml/examples/../utils/datasharders.py:38\u001b[0m, in \u001b[0;36mdatasharder_imu_joints.load_data\u001b[0;34m(self)\u001b[0m\n\u001b[1;32m     35\u001b[0m random\u001b[38;5;241m.\u001b[39mshuffle(patient_folders_list)\n\u001b[1;32m     37\u001b[0m \u001b[38;5;66;03m# Split the list into training and testing subsets\u001b[39;00m\n\u001b[0;32m---> 38\u001b[0m training_patients \u001b[38;5;241m=\u001b[39m patient_folders_list[:\u001b[38;5;28;43mself\u001b[39;49m\u001b[38;5;241;43m.\u001b[39;49m\u001b[43mconfig\u001b[49m\u001b[38;5;241;43m.\u001b[39;49m\u001b[43mnum_patients\u001b[49m\u001b[38;5;241m-\u001b[39m\u001b[38;5;241m1\u001b[39m]\n\u001b[1;32m     39\u001b[0m testing_patients \u001b[38;5;241m=\u001b[39m patient_folders_list[\u001b[38;5;28mself\u001b[39m\u001b[38;5;241m.\u001b[39mconfig\u001b[38;5;241m.\u001b[39mnum_patients\u001b[38;5;241m-\u001b[39m\u001b[38;5;241m1\u001b[39m:]\n\u001b[1;32m     41\u001b[0m training_patient_list \u001b[38;5;241m=\u001b[39m process_patients(training_patients)\n",
      "\u001b[0;31mAttributeError\u001b[0m: 'config_general' object has no attribute 'num_patients'"
     ]
    }
   ],
   "source": [
    "#use main function accessing imu and joint data files directly\n",
    "main(config)"
   ]
  }
 ],
 "metadata": {
  "kernelspec": {
   "display_name": "Python 3",
   "language": "python",
   "name": "python3"
  },
  "language_info": {
   "codemirror_mode": {
    "name": "ipython",
    "version": 3
   },
   "file_extension": ".py",
   "mimetype": "text/x-python",
   "name": "python",
   "nbconvert_exporter": "python",
   "pygments_lexer": "ipython3",
   "version": "3.12.2"
  }
 },
 "nbformat": 4,
 "nbformat_minor": 2
}
