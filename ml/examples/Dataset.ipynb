{
 "cells": [
  {
   "cell_type": "code",
   "execution_count": null,
   "metadata": {},
   "outputs": [],
   "source": [
    "#this script is a continuation of the Dataloader.ipnyb example script\n",
    "\n",
    "import sys #you need this to add path to utils folder\n",
    "sys.path.append('../utils') #now you can import from utils folder\n",
    "# sys.path.append(\"../..\")\n",
    "from configs import config_general"
   ]
  }
 ],
 "metadata": {
  "language_info": {
   "name": "python"
  }
 },
 "nbformat": 4,
 "nbformat_minor": 2
}
