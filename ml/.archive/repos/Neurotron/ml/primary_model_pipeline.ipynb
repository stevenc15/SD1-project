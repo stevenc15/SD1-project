{
 "cells": [
  {
   "cell_type": "markdown",
   "metadata": {},
   "source": [
    "# Primary Model Pipeline"
   ]
  },
  {
   "cell_type": "code",
   "execution_count": 1,
   "metadata": {},
   "outputs": [],
   "source": [
    "import collections\n",
    "import pandas as pd\n",
    "import numpy as np\n",
    "import time\n",
    "import os\n",
    "import tensorflow as tf\n",
    "from tensorflow.keras.layers import *\n",
    "from tensorflow.keras.models import Model\n",
    "from tensorflow.keras.models import load_model\n",
    "from tensorflow.keras.utils import plot_model\n",
    "import matplotlib.pyplot as plt\n",
    "from scipy import signal\n",
    "pd.set_option('display.max_columns', 500)"
   ]
  },
  {
   "cell_type": "code",
   "execution_count": 2,
   "metadata": {},
   "outputs": [],
   "source": [
    "os.environ['HDF5_USE_FILE_LOCKING'] = 'FALSE'"
   ]
  },
  {
   "cell_type": "code",
   "execution_count": 3,
   "metadata": {},
   "outputs": [
    {
     "data": {
      "text/plain": [
       "'2.0.0'"
      ]
     },
     "execution_count": 3,
     "metadata": {},
     "output_type": "execute_result"
    }
   ],
   "source": [
    "tf.__version__"
   ]
  },
  {
   "cell_type": "markdown",
   "metadata": {},
   "source": [
    "### Load Datasets and Clean\n",
    "In this configuration the relevant data set should be loaded from the same folder as the notebook"
   ]
  },
  {
   "cell_type": "code",
   "execution_count": 4,
   "metadata": {},
   "outputs": [],
   "source": [
    "df = pd.read_csv('/nfs/2018/j/jcruz-y-/neurotron_datasets/joined/joined_data_106979_24-Oct-19_17:31_jose_all_1.csv')"
   ]
  },
  {
   "cell_type": "markdown",
   "metadata": {},
   "source": [
    "The data consists of timestamps from the two hardware devices and a diff between them. When the two hardware data streams were stitched together an effor was made to minimize this diff, but the driver configuration did not easily permit eliminating it. This information is included to understand the accuracy of the data, but will not be used during the training.\n",
    "\n",
    "The time data is followed by the 8 channels from the Myo, this data will be used as input features.\n",
    "\n",
    "This is followed by the 63 positional points from the Leap cameras. These will be used as labels."
   ]
  },
  {
   "cell_type": "code",
   "execution_count": null,
   "metadata": {},
   "outputs": [],
   "source": [
    "df.head()"
   ]
  },
  {
   "cell_type": "code",
   "execution_count": null,
   "metadata": {},
   "outputs": [],
   "source": [
    "df = df.drop(labels=[\"Leap timestamp\", \"timestamp diff\", \"emg timestamp\"], axis=1)"
   ]
  },
  {
   "cell_type": "code",
   "execution_count": null,
   "metadata": {},
   "outputs": [],
   "source": [
    "df.describe()"
   ]
  },
  {
   "cell_type": "raw",
   "metadata": {},
   "source": [
    "df = df[:5000]\n",
    "df.shape"
   ]
  },
  {
   "cell_type": "markdown",
   "metadata": {},
   "source": [
    "### FFT\n",
    "**Transforming to spectrograms**"
   ]
  },
  {
   "cell_type": "code",
   "execution_count": null,
   "metadata": {},
   "outputs": [],
   "source": [
    "# y axis corresponds to frequencies (units are hz?)\n",
    "# x axis corresponds to times (units are samples?)\n",
    "# Each square corresponds to the magnitude (the absolute value the wave differs from 0)\n",
    "shape = (6, 21, 8)\n",
    "flat_dim = shape[0]*shape[1]*shape[2]\n",
    "nperseg = 10\n",
    "noverlap = 8\n",
    "reshape = (-1, shape[0], shape[1], shape[2])\n",
    "j = 0\n",
    "i = 0\n",
    "dir_num = 0\n",
    "df_train_g = pd.DataFrame()"
   ]
  },
  {
   "cell_type": "code",
   "execution_count": null,
   "metadata": {},
   "outputs": [],
   "source": [
    "#Spectrogram hyperparameters\n",
    "nperseg=40 #increasing nperseg increases frequency resolution and decreases time res\n",
    "noverlap=11 #increasing time resolution requires increasing overlap\n",
    "window = 'hann' #hann provides good time and frequency resolution properties\n",
    "\n",
    "#Spectrogram\n",
    "frequencies, times, spec = signal.spectrogram(x=df['ch1'][24:48],\n",
    "                                              fs=50, nperseg=nperseg,\n",
    "                                              noverlap=noverlap, window=window)\n",
    "print('frequencies', frequencies.shape)\n",
    "print('times', times.shape)\n",
    "#print(spec)\n",
    "#Subplot 1\n",
    "fig = plt.figure(figsize=(14, 8))\n",
    "ax1 = fig.add_subplot(211)\n",
    "ax1 = plt.pcolormesh(times, frequencies, spec)\n",
    "ax1 = plt.show\n",
    "\n",
    "#Subplot 2\n",
    "frequencies, times, spec = signal.spectrogram(x=df['ch2'][24:48], fs=50, nperseg=nperseg, noverlap=noverlap, window=window)\n",
    "log_spec = np.log(spec)\n",
    "fig = plt.figure(figsize=(14, 8))\n",
    "ax1 = fig.add_subplot(211)\n",
    "ax1 = plt.pcolormesh(times, frequencies, spec)\n",
    "ax1 = plt.show\n",
    "\n",
    "#Subplot 3\n",
    "frequencies, times, spec = signal.spectrogram(x=df['ch3'][24:48], fs=50, nperseg=nperseg, noverlap=noverlap, window=window)\n",
    "log_spec = np.log(spec)\n",
    "fig = plt.figure(figsize=(14, 8))\n",
    "ax1 = fig.add_subplot(211)\n",
    "ax1 = plt.pcolormesh(times, frequencies, spec)\n",
    "ax1 = plt.show\n",
    "\n",
    "#Subplot 4\n",
    "frequencies, times, spec = signal.spectrogram(x=df['ch4'][24:48], fs=50, nperseg=nperseg, noverlap=noverlap, window=window)\n",
    "log_spec = np.log(spec)\n",
    "fig = plt.figure(figsize=(14, 8))\n",
    "ax1 = fig.add_subplot(211)\n",
    "ax1 = plt.pcolormesh(times, frequencies, spec)\n",
    "ax1 = plt.show\n",
    "\n",
    "\n",
    "#Subplot 5\n",
    "frequencies, times, spec = signal.spectrogram(x=df['ch5'][24:48], fs=50, nperseg=nperseg, noverlap=noverlap, window=window)\n",
    "log_spec = np.log(spec)\n",
    "fig = plt.figure(figsize=(14, 8))\n",
    "ax1 = fig.add_subplot(211)\n",
    "ax1 = plt.pcolormesh(times, frequencies, spec)\n",
    "ax1 = plt.show\n",
    "\n",
    "#Subplot 6\n",
    "frequencies, times, spec = signal.spectrogram(x=df['ch6'][24:48], fs=50, nperseg=nperseg, noverlap=noverlap, window=window)\n",
    "log_spec = np.log(spec)\n",
    "fig = plt.figure(figsize=(14, 8))\n",
    "ax1 = fig.add_subplot(211)\n",
    "ax1 = plt.pcolormesh(times, frequencies, spec)\n",
    "ax1 = plt.show\n",
    "\n",
    "#Subplot 7\n",
    "frequencies, times, spec = signal.spectrogram(x=df['ch7'][24:48], fs=50, nperseg=nperseg, noverlap=noverlap, window=window)\n",
    "log_spec = np.log(spec)\n",
    "fig = plt.figure(figsize=(14, 8))\n",
    "ax1 = fig.add_subplot(211)\n",
    "ax1 = plt.pcolormesh(times, frequencies, spec)\n",
    "ax1 = plt.show\n",
    "\n",
    "#Subplot 8\n",
    "frequencies, times, spec = signal.spectrogram(x=df['ch8'][24:48], fs=50, nperseg=nperseg, noverlap=noverlap, window=window)\n",
    "log_spec = np.log(spec)\n",
    "fig = plt.figure(figsize=(14, 8))\n",
    "ax1 = fig.add_subplot(211)\n",
    "ax1 = plt.pcolormesh(times, frequencies, spec)\n",
    "ax1 = plt.show\n",
    "\n",
    "#Specs and Shapes\n",
    "#print('label:', label_dir)\n",
    "#print('file:', file)\n",
    "print('spec_shape:', spec.shape)\n",
    "print('frequencies_shape:', frequencies.shape)\n",
    "print('times_shape:', times.shape)"
   ]
  },
  {
   "cell_type": "code",
   "execution_count": null,
   "metadata": {},
   "outputs": [],
   "source": [
    "channels = ['ch1', 'ch2', 'ch3', 'ch4', 'ch5', 'ch6', 'ch7', 'ch8']\n",
    "shape = (7, 13, 8)\n",
    "flat_dim = shape[0]*shape[1]*shape[2]\n",
    "nperseg = 12\n",
    "noverlap = 11\n",
    "reshape = (-1, shape[0], shape[1], shape[2])\n",
    "j = 1\n",
    "i = 0\n",
    "dir_num = 0\n",
    "df_train_g = pd.DataFrame()\n",
    "\n",
    "img = np.zeros(shape)\n",
    "k = 0\n",
    "num_samples = len(df)\n",
    "x_shape = (num_samples, 7, 13, 8)\n",
    "x1_train = np.zeros(x_shape)\n",
    "\n",
    "for i in range(len(df) - 24):\n",
    "    for j in range(8):\n",
    "        frequencies, times, spec = signal.spectrogram(x=df[channels[j]][k:k+24], fs=50,\n",
    "                                                  nperseg=nperseg, noverlap=noverlap,\n",
    "                                                  window='hann')\n",
    "        log_spec = np.log(spec)\n",
    "        img[:,:,j] = spec\n",
    "        j = j + 1\n",
    "    x1_train[i,:,:,:] = img\n",
    "    i = i + 1\n",
    "    k = k + 1\n",
    "    if i == 4457:\n",
    "        print(df.iloc[i,:])\n",
    "    print(i)\n",
    "print(x1_train.shape)\n",
    "flat = np.reshape(x1_train, (num_samples, flat_dim))\n",
    "df_train1 = pd.DataFrame(data=flat)\n",
    "df_train_g = df_train_g.append(df_train1, ignore_index=True)"
   ]
  },
  {
   "cell_type": "code",
   "execution_count": null,
   "metadata": {},
   "outputs": [],
   "source": [
    "df_train_g.head()"
   ]
  },
  {
   "cell_type": "code",
   "execution_count": null,
   "metadata": {},
   "outputs": [],
   "source": [
    "def preprocess_features(x_train):\n",
    "    shape = (7, 13, 8)\n",
    "    reshape = (-1, shape[0], shape[1], shape[2])\n",
    "    x_train = x_train.replace(-np.inf, 0)\n",
    "    x_train = x_train.replace(np.inf, 0)\n",
    "    #x_train = np.log(x_train.values)\n",
    "    x_train = x_train.values\n",
    "    x_train_norm = x_train.reshape(reshape)\n",
    "    return x_train_norm\n",
    "\n",
    "features = preprocess_features(df_train_g)"
   ]
  },
  {
   "cell_type": "raw",
   "metadata": {},
   "source": [
    "x1_train.shape"
   ]
  },
  {
   "cell_type": "code",
   "execution_count": 3,
   "metadata": {},
   "outputs": [
    {
     "ename": "NameError",
     "evalue": "name 'features' is not defined",
     "output_type": "error",
     "traceback": [
      "\u001b[0;31m---------------------------------------------------------------------------\u001b[0m",
      "\u001b[0;31mNameError\u001b[0m                                 Traceback (most recent call last)",
      "\u001b[0;32m<ipython-input-3-ce5d0f26b013>\u001b[0m in \u001b[0;36m<module>\u001b[0;34m\u001b[0m\n\u001b[0;32m----> 1\u001b[0;31m \u001b[0mfeatures\u001b[0m\u001b[0;34m.\u001b[0m\u001b[0mshape\u001b[0m\u001b[0;34m\u001b[0m\u001b[0;34m\u001b[0m\u001b[0m\n\u001b[0m",
      "\u001b[0;31mNameError\u001b[0m: name 'features' is not defined"
     ]
    }
   ],
   "source": [
    "features.shape"
   ]
  },
  {
   "cell_type": "code",
   "execution_count": 18,
   "metadata": {},
   "outputs": [],
   "source": [
    "labels = df.loc[:, 'Wrist x':].values"
   ]
  },
  {
   "cell_type": "markdown",
   "metadata": {},
   "source": [
    "## Conv_LSTM"
   ]
  },
  {
   "cell_type": "code",
   "execution_count": null,
   "metadata": {},
   "outputs": [
    {
     "name": "stdout",
     "output_type": "stream",
     "text": [
      "(106956, 24, 7, 13, 8)\n"
     ]
    }
   ],
   "source": [
    "seq_length = 24\n",
    "\n",
    "def reshape_overlap_samples(seq_length, feats, labels):\n",
    "    samples = feats.shape[0] - (seq_length - 1)    # all samples except the last sequence\n",
    "    shape = (24, 7, 13, 8)\n",
    "    new_f = np.zeros(shape=(samples, 24, 7, 13, 8))\n",
    "    print(new_f.shape)\n",
    "    new_l = labels[seq_length - 1:]\n",
    "    queue = collections.deque(feats[:seq_length])\n",
    "    new_f[0] = np.array(queue)\n",
    "    j = 1\n",
    "    for i in range(seq_length, feats.shape[0]):\n",
    "        queue.popleft()\n",
    "        queue.append(feats[i])\n",
    "        new_f[j] = np.array(queue)\n",
    "        j += 1\n",
    "    return (new_f, new_l)\n",
    "\n",
    "features_ol, labels_ol = reshape_overlap_samples(seq_length, features, labels)\n",
    "print(features_ol.shape)\n",
    "print(labels_ol.shape)"
   ]
  },
  {
   "cell_type": "code",
   "execution_count": 68,
   "metadata": {},
   "outputs": [
    {
     "name": "stdout",
     "output_type": "stream",
     "text": [
      "_________________________________________________________________\n",
      "Layer (type)                 Output Shape              Param #   \n",
      "=================================================================\n",
      "input_11 (InputLayer)        (None, 24, 7, 13, 8)      0         \n",
      "_________________________________________________________________\n",
      "batch_normalization_v1_28 (B (None, 24, 7, 13, 8)      32        \n",
      "_________________________________________________________________\n",
      "conv_lst_m2d_24 (ConvLSTM2D) (None, 24, 7, 13, 16)     6208      \n",
      "_________________________________________________________________\n",
      "dropout_24 (Dropout)         (None, 24, 7, 13, 16)     0         \n",
      "_________________________________________________________________\n",
      "conv_lst_m2d_25 (ConvLSTM2D) (None, 7, 13, 32)         24704     \n",
      "_________________________________________________________________\n",
      "dropout_25 (Dropout)         (None, 7, 13, 32)         0         \n",
      "_________________________________________________________________\n",
      "flatten_10 (Flatten)         (None, 2912)              0         \n",
      "_________________________________________________________________\n",
      "dense_29 (Dense)             (None, 63)                183519    \n",
      "=================================================================\n",
      "Total params: 214,463\n",
      "Trainable params: 214,447\n",
      "Non-trainable params: 16\n",
      "_________________________________________________________________\n"
     ]
    }
   ],
   "source": [
    "def create_model(input_shape):\n",
    "    inputlayer = Input(shape=input_shape)\n",
    "    \n",
    "    norm_input = BatchNormalization()(inputlayer)\n",
    "    model = ConvLSTM2D(16, kernel_size=2, padding='same', activation='relu', return_sequences=True)(norm_input)\n",
    "    model = Dropout(rate=0.3)(model)\n",
    "    #model = ConvLSTM2D(16, kernel_size=2, padding='same', activation='relu', return_sequences=True)(model)\n",
    "    #model = Dropout(rate=0.5)(model)\n",
    "    #model = ConvLSTM2D(32, kernel_size=2, padding='same', activation='relu', return_sequences=True)(model)\n",
    "    #model = Dropout(rate=0.5)(model)\n",
    "    model = ConvLSTM2D(32, kernel_size=2, padding='same', activation='relu', return_sequences=False)(model)\n",
    "    model = Dropout(rate=0.3)(model)\n",
    "    #model = ConvLSTM2D(128, kernel_size=2, padding='same', activation='relu', return_sequences=True)(model)\n",
    "    #model = Dropout(rate=0.5)(model)\n",
    "    #model = ConvLSTM2D(128, kernel_size=2, padding='same', activation='relu', return_sequences=False)(model)\n",
    "    #model = Dropout(rate=0.5)(model)\n",
    "    model = Flatten()(model)\n",
    "    #mode1 = BatchNormalization()(Dense(128, activation='relu')(model))\n",
    "    mode1 = BatchNormalization()(Dense(128, activation='relu')(model))\n",
    "    model = Dense(63, activation='None')(model)\n",
    "    #dense_5 = Dense(63, activation='relu')(model)\n",
    "    #model = TimeDistributed(MaxPooling2D(pool_size=(2, 2)))(model)\n",
    "    #model = Dropout(rate=0.2)(model)\n",
    "    #model = ConvLSTM2D(64, kernel_size=3, padding='same', activation='relu')(model)\n",
    "    #model = ConvLSTM2D(64, kernel_size=3, padding='same', activation='relu')(model)\n",
    "    #model = TimeDistributed(MaxPooling2D(pool_size=(2, 2)))(model)\n",
    "    #model = Dropout(rate=0.2)(model)\n",
    "    #model = Conv2D(128, kernel_size=3, padding='same', activation='relu')(model)\n",
    "    #model = Conv2D(128, kernel_size=3, padding='same', activation='relu')(model)\n",
    "    #model = TimeDistributed(MaxPooling2D(pool_size=(1, 1)))(model)\n",
    "    #model = Flatten()(model) \n",
    "\n",
    "    #dense_1 = BatchNormalization()(Dense(128, activation='relu')(model))\n",
    "    #dense_2 = BatchNormalization()(Dense(128, activation='relu')(dense_1))\n",
    "    #dense_1 = Dense(nclass, activation='softmax')(dense_1)\n",
    "\n",
    "    #lstm layers\n",
    "    #inputs = Input(shape=(None, 128), name=\"inputs\")(dense_2)\n",
    "    #lstm_0 = LSTM(100, return_sequences=True, name=\"lstm_0\")(dense_2)\n",
    "    #do = Dropout(0.4)(lstm_0)\n",
    "    #lstm_1 = LSTM(100, return_sequences=True, name=\"lstm_1\")(do)\n",
    "    #do_2 = Dropout(0.4)(lstm_1)\n",
    "    #lstm_1 = LSTM(100, return_sequences=False, name=\"lstm_1\")(do_2)\n",
    "    \n",
    "    #dense_3 = Dense(128, activation='relu', name=\"dense_3\")(lstm_1)\n",
    "    #dense_4 = BatchNormalization()(Dense(128, activation='relu')(dense_3))\n",
    "    #dense_5 = Dense(128, activation='relu')(dense_4)\n",
    "    #dense_6 = BatchNormalization()(Dense(128, activation='relu')(dense_5))\n",
    "    #dense_5 = Dense(64, activation='relu')(dense_4)\n",
    "    \n",
    "    #model_fc.add(Dense(100, input_dim=64))\n",
    "    #model_fc.add(Activation('relu'))\n",
    "    #model_fc.add(BatchNormalization())\n",
    "    #model_fc.add(Dropout(0.2))\n",
    "    #model_fc.add(Dense(64, input_dim=64))\n",
    "    #model_fc.add(Activation('relu'))\n",
    "    #model_fc.add(Dropout(0.2))\n",
    "    #model_fc.add(Dense(63, input_dim=64))\n",
    "    \n",
    "    #decoder layers\n",
    "    #decoder_0 = decoder.get_layer(\"decoder_0\")(lstm_out)\n",
    "    #decoder_0.trainable = False\n",
    "    #decoder_1 = decoder.get_layer(\"decoder_1\")(decoder_0)\n",
    "    #decoder_1.trainable = False\n",
    "    #decoder_output = decoder.get_layer(\"decoder_output\")(decoder_1)\n",
    "    #decoder_output.trainable = False\n",
    "    \n",
    "    model = Model(inputs=inputlayer, outputs=model)\n",
    "    #model = Model(inputs, decoder_output, name=\"model_v1\")\n",
    "    return model\n",
    "\n",
    "shape = (24, 7, 13, 8)\n",
    "model = create_model(shape)\n",
    "\n",
    "model.summary()"
   ]
  },
  {
   "cell_type": "code",
   "execution_count": 69,
   "metadata": {},
   "outputs": [],
   "source": [
    "optimizer = tf.keras.optimizers.Adam(lr=0.001)\n",
    "model.compile(optimizer=optimizer, loss='mse')"
   ]
  },
  {
   "cell_type": "code",
   "execution_count": 70,
   "metadata": {},
   "outputs": [
    {
     "name": "stdout",
     "output_type": "stream",
     "text": [
      "  928/19977 [>.............................] - ETA: 2:36 - loss: 5118735.4261"
     ]
    },
    {
     "ename": "KeyboardInterrupt",
     "evalue": "",
     "output_type": "error",
     "traceback": [
      "\u001b[0;31m---------------------------------------------------------------------------\u001b[0m",
      "\u001b[0;31mKeyboardInterrupt\u001b[0m                         Traceback (most recent call last)",
      "\u001b[0;32m<ipython-input-70-a1a5187099d0>\u001b[0m in \u001b[0;36m<module>\u001b[0;34m\u001b[0m\n\u001b[0;32m----> 1\u001b[0;31m \u001b[0mmodel\u001b[0m\u001b[0;34m.\u001b[0m\u001b[0mevaluate\u001b[0m\u001b[0;34m(\u001b[0m\u001b[0mfeatures_ol\u001b[0m\u001b[0;34m,\u001b[0m \u001b[0mlabels_ol\u001b[0m\u001b[0;34m,\u001b[0m \u001b[0mverbose\u001b[0m\u001b[0;34m=\u001b[0m\u001b[0;36m1\u001b[0m\u001b[0;34m)\u001b[0m\u001b[0;34m\u001b[0m\u001b[0;34m\u001b[0m\u001b[0m\n\u001b[0m",
      "\u001b[0;32m~/miniconda3/lib/python3.7/site-packages/tensorflow/python/keras/engine/training.py\u001b[0m in \u001b[0;36mevaluate\u001b[0;34m(self, x, y, batch_size, verbose, sample_weight, steps, max_queue_size, workers, use_multiprocessing)\u001b[0m\n\u001b[1;32m   1009\u001b[0m           \u001b[0mbatch_size\u001b[0m\u001b[0;34m=\u001b[0m\u001b[0mbatch_size\u001b[0m\u001b[0;34m,\u001b[0m\u001b[0;34m\u001b[0m\u001b[0;34m\u001b[0m\u001b[0m\n\u001b[1;32m   1010\u001b[0m           \u001b[0mverbose\u001b[0m\u001b[0;34m=\u001b[0m\u001b[0mverbose\u001b[0m\u001b[0;34m,\u001b[0m\u001b[0;34m\u001b[0m\u001b[0;34m\u001b[0m\u001b[0m\n\u001b[0;32m-> 1011\u001b[0;31m           steps=steps)\n\u001b[0m\u001b[1;32m   1012\u001b[0m \u001b[0;34m\u001b[0m\u001b[0m\n\u001b[1;32m   1013\u001b[0m   def predict(self,\n",
      "\u001b[0;32m~/miniconda3/lib/python3.7/site-packages/tensorflow/python/keras/engine/training_arrays.py\u001b[0m in \u001b[0;36mmodel_iteration\u001b[0;34m(model, inputs, targets, sample_weights, batch_size, epochs, verbose, callbacks, val_inputs, val_targets, val_sample_weights, shuffle, initial_epoch, steps_per_epoch, validation_steps, mode, validation_in_fit, **kwargs)\u001b[0m\n\u001b[1;32m    327\u001b[0m \u001b[0;34m\u001b[0m\u001b[0m\n\u001b[1;32m    328\u001b[0m         \u001b[0;31m# Get outputs.\u001b[0m\u001b[0;34m\u001b[0m\u001b[0;34m\u001b[0m\u001b[0;34m\u001b[0m\u001b[0m\n\u001b[0;32m--> 329\u001b[0;31m         \u001b[0mbatch_outs\u001b[0m \u001b[0;34m=\u001b[0m \u001b[0mf\u001b[0m\u001b[0;34m(\u001b[0m\u001b[0mins_batch\u001b[0m\u001b[0;34m)\u001b[0m\u001b[0;34m\u001b[0m\u001b[0;34m\u001b[0m\u001b[0m\n\u001b[0m\u001b[1;32m    330\u001b[0m         \u001b[0;32mif\u001b[0m \u001b[0;32mnot\u001b[0m \u001b[0misinstance\u001b[0m\u001b[0;34m(\u001b[0m\u001b[0mbatch_outs\u001b[0m\u001b[0;34m,\u001b[0m \u001b[0mlist\u001b[0m\u001b[0;34m)\u001b[0m\u001b[0;34m:\u001b[0m\u001b[0;34m\u001b[0m\u001b[0;34m\u001b[0m\u001b[0m\n\u001b[1;32m    331\u001b[0m           \u001b[0mbatch_outs\u001b[0m \u001b[0;34m=\u001b[0m \u001b[0;34m[\u001b[0m\u001b[0mbatch_outs\u001b[0m\u001b[0;34m]\u001b[0m\u001b[0;34m\u001b[0m\u001b[0;34m\u001b[0m\u001b[0m\n",
      "\u001b[0;32m~/miniconda3/lib/python3.7/site-packages/tensorflow/python/keras/backend.py\u001b[0m in \u001b[0;36m__call__\u001b[0;34m(self, inputs)\u001b[0m\n\u001b[1;32m   3074\u001b[0m \u001b[0;34m\u001b[0m\u001b[0m\n\u001b[1;32m   3075\u001b[0m     fetched = self._callable_fn(*array_vals,\n\u001b[0;32m-> 3076\u001b[0;31m                                 run_metadata=self.run_metadata)\n\u001b[0m\u001b[1;32m   3077\u001b[0m     \u001b[0mself\u001b[0m\u001b[0;34m.\u001b[0m\u001b[0m_call_fetch_callbacks\u001b[0m\u001b[0;34m(\u001b[0m\u001b[0mfetched\u001b[0m\u001b[0;34m[\u001b[0m\u001b[0;34m-\u001b[0m\u001b[0mlen\u001b[0m\u001b[0;34m(\u001b[0m\u001b[0mself\u001b[0m\u001b[0;34m.\u001b[0m\u001b[0m_fetches\u001b[0m\u001b[0;34m)\u001b[0m\u001b[0;34m:\u001b[0m\u001b[0;34m]\u001b[0m\u001b[0;34m)\u001b[0m\u001b[0;34m\u001b[0m\u001b[0;34m\u001b[0m\u001b[0m\n\u001b[1;32m   3078\u001b[0m     return nest.pack_sequence_as(self._outputs_structure,\n",
      "\u001b[0;32m~/miniconda3/lib/python3.7/site-packages/tensorflow/python/client/session.py\u001b[0m in \u001b[0;36m__call__\u001b[0;34m(self, *args, **kwargs)\u001b[0m\n\u001b[1;32m   1437\u001b[0m           ret = tf_session.TF_SessionRunCallable(\n\u001b[1;32m   1438\u001b[0m               \u001b[0mself\u001b[0m\u001b[0;34m.\u001b[0m\u001b[0m_session\u001b[0m\u001b[0;34m.\u001b[0m\u001b[0m_session\u001b[0m\u001b[0;34m,\u001b[0m \u001b[0mself\u001b[0m\u001b[0;34m.\u001b[0m\u001b[0m_handle\u001b[0m\u001b[0;34m,\u001b[0m \u001b[0margs\u001b[0m\u001b[0;34m,\u001b[0m \u001b[0mstatus\u001b[0m\u001b[0;34m,\u001b[0m\u001b[0;34m\u001b[0m\u001b[0;34m\u001b[0m\u001b[0m\n\u001b[0;32m-> 1439\u001b[0;31m               run_metadata_ptr)\n\u001b[0m\u001b[1;32m   1440\u001b[0m         \u001b[0;32mif\u001b[0m \u001b[0mrun_metadata\u001b[0m\u001b[0;34m:\u001b[0m\u001b[0;34m\u001b[0m\u001b[0;34m\u001b[0m\u001b[0m\n\u001b[1;32m   1441\u001b[0m           \u001b[0mproto_data\u001b[0m \u001b[0;34m=\u001b[0m \u001b[0mtf_session\u001b[0m\u001b[0;34m.\u001b[0m\u001b[0mTF_GetBuffer\u001b[0m\u001b[0;34m(\u001b[0m\u001b[0mrun_metadata_ptr\u001b[0m\u001b[0;34m)\u001b[0m\u001b[0;34m\u001b[0m\u001b[0;34m\u001b[0m\u001b[0m\n",
      "\u001b[0;31mKeyboardInterrupt\u001b[0m: "
     ]
    }
   ],
   "source": [
    "model.evaluate(features_ol, labels_ol, verbose=1)"
   ]
  },
  {
   "cell_type": "code",
   "execution_count": 71,
   "metadata": {},
   "outputs": [
    {
     "name": "stdout",
     "output_type": "stream",
     "text": [
      "Train on 15981 samples, validate on 3996 samples\n",
      "Epoch 1/2\n",
      "  408/15981 [..............................] - ETA: 7:39 - loss: 1657.2771"
     ]
    },
    {
     "ename": "KeyboardInterrupt",
     "evalue": "",
     "output_type": "error",
     "traceback": [
      "\u001b[0;31m---------------------------------------------------------------------------\u001b[0m",
      "\u001b[0;31mKeyboardInterrupt\u001b[0m                         Traceback (most recent call last)",
      "\u001b[0;32m<ipython-input-71-5ba552f8a91b>\u001b[0m in \u001b[0;36m<module>\u001b[0;34m\u001b[0m\n\u001b[1;32m      1\u001b[0m history = model.fit(features_ol, labels_ol, batch_size=seq_length, epochs=2\n\u001b[0;32m----> 2\u001b[0;31m                     , verbose=1, validation_split=0.2, shuffle=False)\n\u001b[0m",
      "\u001b[0;32m~/miniconda3/lib/python3.7/site-packages/tensorflow/python/keras/engine/training.py\u001b[0m in \u001b[0;36mfit\u001b[0;34m(self, x, y, batch_size, epochs, verbose, callbacks, validation_split, validation_data, shuffle, class_weight, sample_weight, initial_epoch, steps_per_epoch, validation_steps, max_queue_size, workers, use_multiprocessing, **kwargs)\u001b[0m\n\u001b[1;32m    878\u001b[0m           \u001b[0minitial_epoch\u001b[0m\u001b[0;34m=\u001b[0m\u001b[0minitial_epoch\u001b[0m\u001b[0;34m,\u001b[0m\u001b[0;34m\u001b[0m\u001b[0;34m\u001b[0m\u001b[0m\n\u001b[1;32m    879\u001b[0m           \u001b[0msteps_per_epoch\u001b[0m\u001b[0;34m=\u001b[0m\u001b[0msteps_per_epoch\u001b[0m\u001b[0;34m,\u001b[0m\u001b[0;34m\u001b[0m\u001b[0;34m\u001b[0m\u001b[0m\n\u001b[0;32m--> 880\u001b[0;31m           validation_steps=validation_steps)\n\u001b[0m\u001b[1;32m    881\u001b[0m \u001b[0;34m\u001b[0m\u001b[0m\n\u001b[1;32m    882\u001b[0m   def evaluate(self,\n",
      "\u001b[0;32m~/miniconda3/lib/python3.7/site-packages/tensorflow/python/keras/engine/training_arrays.py\u001b[0m in \u001b[0;36mmodel_iteration\u001b[0;34m(model, inputs, targets, sample_weights, batch_size, epochs, verbose, callbacks, val_inputs, val_targets, val_sample_weights, shuffle, initial_epoch, steps_per_epoch, validation_steps, mode, validation_in_fit, **kwargs)\u001b[0m\n\u001b[1;32m    327\u001b[0m \u001b[0;34m\u001b[0m\u001b[0m\n\u001b[1;32m    328\u001b[0m         \u001b[0;31m# Get outputs.\u001b[0m\u001b[0;34m\u001b[0m\u001b[0;34m\u001b[0m\u001b[0;34m\u001b[0m\u001b[0m\n\u001b[0;32m--> 329\u001b[0;31m         \u001b[0mbatch_outs\u001b[0m \u001b[0;34m=\u001b[0m \u001b[0mf\u001b[0m\u001b[0;34m(\u001b[0m\u001b[0mins_batch\u001b[0m\u001b[0;34m)\u001b[0m\u001b[0;34m\u001b[0m\u001b[0;34m\u001b[0m\u001b[0m\n\u001b[0m\u001b[1;32m    330\u001b[0m         \u001b[0;32mif\u001b[0m \u001b[0;32mnot\u001b[0m \u001b[0misinstance\u001b[0m\u001b[0;34m(\u001b[0m\u001b[0mbatch_outs\u001b[0m\u001b[0;34m,\u001b[0m \u001b[0mlist\u001b[0m\u001b[0;34m)\u001b[0m\u001b[0;34m:\u001b[0m\u001b[0;34m\u001b[0m\u001b[0;34m\u001b[0m\u001b[0m\n\u001b[1;32m    331\u001b[0m           \u001b[0mbatch_outs\u001b[0m \u001b[0;34m=\u001b[0m \u001b[0;34m[\u001b[0m\u001b[0mbatch_outs\u001b[0m\u001b[0;34m]\u001b[0m\u001b[0;34m\u001b[0m\u001b[0;34m\u001b[0m\u001b[0m\n",
      "\u001b[0;32m~/miniconda3/lib/python3.7/site-packages/tensorflow/python/keras/backend.py\u001b[0m in \u001b[0;36m__call__\u001b[0;34m(self, inputs)\u001b[0m\n\u001b[1;32m   3074\u001b[0m \u001b[0;34m\u001b[0m\u001b[0m\n\u001b[1;32m   3075\u001b[0m     fetched = self._callable_fn(*array_vals,\n\u001b[0;32m-> 3076\u001b[0;31m                                 run_metadata=self.run_metadata)\n\u001b[0m\u001b[1;32m   3077\u001b[0m     \u001b[0mself\u001b[0m\u001b[0;34m.\u001b[0m\u001b[0m_call_fetch_callbacks\u001b[0m\u001b[0;34m(\u001b[0m\u001b[0mfetched\u001b[0m\u001b[0;34m[\u001b[0m\u001b[0;34m-\u001b[0m\u001b[0mlen\u001b[0m\u001b[0;34m(\u001b[0m\u001b[0mself\u001b[0m\u001b[0;34m.\u001b[0m\u001b[0m_fetches\u001b[0m\u001b[0;34m)\u001b[0m\u001b[0;34m:\u001b[0m\u001b[0;34m]\u001b[0m\u001b[0;34m)\u001b[0m\u001b[0;34m\u001b[0m\u001b[0;34m\u001b[0m\u001b[0m\n\u001b[1;32m   3078\u001b[0m     return nest.pack_sequence_as(self._outputs_structure,\n",
      "\u001b[0;32m~/miniconda3/lib/python3.7/site-packages/tensorflow/python/client/session.py\u001b[0m in \u001b[0;36m__call__\u001b[0;34m(self, *args, **kwargs)\u001b[0m\n\u001b[1;32m   1437\u001b[0m           ret = tf_session.TF_SessionRunCallable(\n\u001b[1;32m   1438\u001b[0m               \u001b[0mself\u001b[0m\u001b[0;34m.\u001b[0m\u001b[0m_session\u001b[0m\u001b[0;34m.\u001b[0m\u001b[0m_session\u001b[0m\u001b[0;34m,\u001b[0m \u001b[0mself\u001b[0m\u001b[0;34m.\u001b[0m\u001b[0m_handle\u001b[0m\u001b[0;34m,\u001b[0m \u001b[0margs\u001b[0m\u001b[0;34m,\u001b[0m \u001b[0mstatus\u001b[0m\u001b[0;34m,\u001b[0m\u001b[0;34m\u001b[0m\u001b[0;34m\u001b[0m\u001b[0m\n\u001b[0;32m-> 1439\u001b[0;31m               run_metadata_ptr)\n\u001b[0m\u001b[1;32m   1440\u001b[0m         \u001b[0;32mif\u001b[0m \u001b[0mrun_metadata\u001b[0m\u001b[0;34m:\u001b[0m\u001b[0;34m\u001b[0m\u001b[0;34m\u001b[0m\u001b[0m\n\u001b[1;32m   1441\u001b[0m           \u001b[0mproto_data\u001b[0m \u001b[0;34m=\u001b[0m \u001b[0mtf_session\u001b[0m\u001b[0;34m.\u001b[0m\u001b[0mTF_GetBuffer\u001b[0m\u001b[0;34m(\u001b[0m\u001b[0mrun_metadata_ptr\u001b[0m\u001b[0;34m)\u001b[0m\u001b[0;34m\u001b[0m\u001b[0;34m\u001b[0m\u001b[0m\n",
      "\u001b[0;31mKeyboardInterrupt\u001b[0m: "
     ]
    }
   ],
   "source": [
    "history = model.fit(features_ol, labels_ol, batch_size=seq_length, epochs=2\n",
    "                    , verbose=1, validation_split=0.2, shuffle=False)"
   ]
  },
  {
   "cell_type": "code",
   "execution_count": 52,
   "metadata": {},
   "outputs": [
    {
     "data": {
      "image/png": "[encoded data removed]",
      "text/plain": [
       "<Figure size 432x288 with 1 Axes>"
      ]
     },
     "metadata": {
      "needs_background": "light"
     },
     "output_type": "display_data"
    }
   ],
   "source": [
    "# Plot training & validation loss values\n",
    "plt.plot(history.history['loss'])\n",
    "plt.plot(history.history['val_loss'])\n",
    "plt.title('Model loss')\n",
    "plt.ylabel('Loss')\n",
    "plt.xlabel('Epoch')\n",
    "plt.legend(['Train', 'Test'], loc='upper left')\n",
    "plt.show()"
   ]
  },
  {
   "cell_type": "markdown",
   "metadata": {},
   "source": [
    "## CNN + LSTM"
   ]
  },
  {
   "cell_type": "raw",
   "metadata": {},
   "source": [
    "    \n",
    "model = tf.keras.models.Sequential()\n",
    "model.add(TimeDistributed(Conv2D(32, kernel_size=2, padding='same', activation='relu', input_shape=(None, 7, 13, 8))))\n",
    "model.add(TimeDistributed(Flatten()))    \n",
    "model.add(LSTM(64, return_sequences=True, input_shape=(seq_length, 8)))\n",
    "model.add(Dropout(0.2))\n",
    "model.add(LSTM(64))\n",
    "model.add(BatchNormalization())\n",
    "model.add(Dense(100, input_dim=64))\n",
    "model.add(Activation('relu'))\n",
    "model.add(BatchNormalization())\n",
    "model.add(Dropout(0.2))\n",
    "model.add(Dense(64, input_dim=64))\n",
    "model.add(Activation('relu'))\n",
    "model.add(Dropout(0.2))\n",
    "model.add(Dense(18, input_dim=64))\n",
    "\n",
    "\n",
    "model.compile(optimizer='Adam', loss='mse')\n",
    "#model.summary()\n",
    "history = model.fit(features, labels, batch_size=seq_length, epochs=5, verbose=1, validation_split=0.2)"
   ]
  },
  {
   "cell_type": "code",
   "execution_count": 71,
   "metadata": {},
   "outputs": [
    {
     "name": "stdout",
     "output_type": "stream",
     "text": [
      "(7, 13, 8)\n",
      "_________________________________________________________________\n",
      "Layer (type)                 Output Shape              Param #   \n",
      "=================================================================\n",
      "input_34 (InputLayer)        (None, 24, 7, 13, 8)      0         \n",
      "_________________________________________________________________\n",
      "batch_normalization_v1_71 (B (None, 24, 7, 13, 8)      32        \n",
      "_________________________________________________________________\n",
      "time_distributed_53 (TimeDis (None, 24, 7, 13, 32)     1056      \n",
      "_________________________________________________________________\n",
      "time_distributed_54 (TimeDis (None, 24, 7, 13, 32)     4128      \n",
      "_________________________________________________________________\n",
      "batch_normalization_v1_72 (B (None, 24, 7, 13, 32)     128       \n",
      "_________________________________________________________________\n",
      "time_distributed_55 (TimeDis (None, 24, 2912)          0         \n",
      "_________________________________________________________________\n",
      "lstm_28 (LSTM)               (None, 24, 64)            762112    \n",
      "_________________________________________________________________\n",
      "lstm_29 (LSTM)               (None, 64)                33024     \n",
      "_________________________________________________________________\n",
      "dense_58 (Dense)             (None, 63)                4095      \n",
      "_________________________________________________________________\n",
      "batch_normalization_v1_73 (B (None, 63)                252       \n",
      "_________________________________________________________________\n",
      "dense_59 (Dense)             (None, 63)                4032      \n",
      "=================================================================\n",
      "Total params: 808,859\n",
      "Trainable params: 808,653\n",
      "Non-trainable params: 206\n",
      "_________________________________________________________________\n"
     ]
    }
   ],
   "source": [
    "def create_model(input_shape):\n",
    "\n",
    "    inputlayer = Input(shape=input_shape)\n",
    "    norm_input = BatchNormalization()(inputlayer)\n",
    "    model = TimeDistributed(Conv2D(32, kernel_size=2, padding='same', activation='relu'))(norm_input)\n",
    "    model = TimeDistributed(Conv2D(32, kernel_size=2, padding='same', activation='relu'))(model)\n",
    "    model = BatchNormalization()(model)\n",
    "    #model = BatchNormalization()(TimeDistributed(Dense(128, activation='relu')(model)))\n",
    "    model = TimeDistributed(Flatten())(model)\n",
    "    model = LSTM(64, activation='relu', return_sequences=True)(model)\n",
    "    model = LSTM(64, activation='relu', return_sequences=False)(model)\n",
    "    model = BatchNormalization()(Dense(63, activation='relu')(model))\n",
    "    dense = Dense(63, activation='relu')(model)\n",
    "    \n",
    "    #norm_input = BatchNormalization()(inputlayer)\n",
    "    #model = Conv2D(32, kernel_size=2, padding='same', activation='relu')(norm_input)\n",
    "    #model = Conv2D(32, kernel_size=2, padding='same', activation='relu')(model)\n",
    "    #model = MaxPooling2D(pool_size=(2, 2))(model)\n",
    "    #model = Dropout(rate=0.2)(model)\n",
    "    #model = Conv2D(64, kernel_size=3, padding='same', activation='relu')(model)\n",
    "    #model = Conv2D(64, kernel_size=3, padding='same', activation='relu')(model)\n",
    "    #model = MaxPooling2D(pool_size=(2, 2))(model)\n",
    "    #model = Dropout(rate=0.2)(model)\n",
    "    #vmodel = Conv2D(128, kernel_size=3, padding='same', activation='relu')(model)\n",
    "    #model = Conv2D(128, kernel_size=3, padding='same', activation='relu')(model)\n",
    "    #model = MaxPooling2D(pool_size=(1, 1))(model)\n",
    "    #model = Flatten()(model) \n",
    "\n",
    "    #dense_1 = BatchNormalization()(Dense(128, activation='relu')(model))\n",
    "    #dense_2 = BatchNormalization()(Dense(128, activation='relu')(dense_1))\n",
    "    #dense_1 = Dense(nclass, activation='softmax')(dense_1)\n",
    "    \n",
    "    #lstm layers\n",
    "    #inputs = Input(shape=(None, 128))(dense_2)\n",
    "    #dense_3 = Dense(128, activation='relu', name=\"dense_3\")(dense_2)\n",
    "    #lstm_0 = LSTM(100, input_shape=(128,), return_sequences=True, name=\"lstm_0\")(dense_3)\n",
    "    #do = Dropout(0.4)(lstm_0)\n",
    "    #stm_1 = LSTM(100, return_sequences=True, name=\"lstm_1\")(do)\n",
    "    #do_2 = Dropout(0.4)(lstm_0)\n",
    "    #lstm_1 = LSTM(100, return_sequences=False, name=\"lstm_1\")(do_2)\n",
    "    \n",
    "    #dense_3 = Dense(128, activation='relu', name=\"dense_3\")(lstm_1)\n",
    "    #dense_4 = BatchNormalization()(Dense(128, activation='relu')(dense_3))\n",
    "    #dense_5 = Dense(128, activation='relu')(dense_4)\n",
    "    #dense_6 = BatchNormalization()(Dense(128, activation='relu')(dense_5))\n",
    "    #dense_5 = Dense(64, activation='relu')(dense_4)\n",
    "    \n",
    "    #model_fc.add(Dense(100, input_dim=64))\n",
    "    #model_fc.add(Activation('relu'))\n",
    "    #model_fc.add(BatchNormalization())\n",
    "    #model_fc.add(Dropout(0.2))\n",
    "    #model_fc.add(Dense(64, input_dim=64))\n",
    "    #model_fc.add(Activation('relu'))\n",
    "    #model_fc.add(Dropout(0.2))\n",
    "    #model_fc.add(Dense(63, input_dim=64))\n",
    "    \n",
    "    #decoder layers\n",
    "    #decoder_0 = decoder.get_layer(\"decoder_0\")(lstm_out)\n",
    "    #decoder_0.trainable = False\n",
    "    #decoder_1 = decoder.get_layer(\"decoder_1\")(decoder_0)\n",
    "    #decoder_1.trainable = False\n",
    "    #decoder_output = decoder.get_layer(\"decoder_output\")(decoder_1)\n",
    "    #decoder_output.trainable = False\n",
    "    \n",
    "    model = Model(inputs=inputlayer, outputs=dense)\n",
    "    #model = Model(inputs, decoder_output, name=\"model_v1\")\n",
    "    return model\n",
    "\n",
    "\n",
    "print(shape)\n",
    "model = create_model((24, 7, 13, 8))\n",
    "\n",
    "model.summary()"
   ]
  },
  {
   "cell_type": "code",
   "execution_count": 72,
   "metadata": {},
   "outputs": [],
   "source": [
    "model.compile(optimizer='Adam', loss='mse')"
   ]
  },
  {
   "cell_type": "code",
   "execution_count": null,
   "metadata": {},
   "outputs": [],
   "source": [
    "history = model.fit(features_ol, labels_ol, batch_size=seq_length, epochs=5, verbose=1, validation_split=0.2)"
   ]
  },
  {
   "cell_type": "markdown",
   "metadata": {},
   "source": [
    "## conv_lstm_2d"
   ]
  },
  {
   "cell_type": "code",
   "execution_count": null,
   "metadata": {},
   "outputs": [],
   "source": [
    "#lstm layers\n",
    "inputs = Input(shape=(None, 8), name=\"inputs\")\n",
    "lstm_0 = ConvLSTM2D(100, return_sequences=True, name=\"lstm_0\")(inputs)\n",
    "do = Dropout(0.4)(lstm_0)\n",
    "lstm_1 = ConvLSTM2D(100, return_sequences=False, name=\"lstm_1\")(do)\n",
    "do_2 = Dropout(0.4)(lstm_0)\n",
    "lstm_1 = ConvLSTM2D(100, return_sequences=False, name=\"lstm_1\")(do_2)\n",
    "lstm_out = Dense(9, activation=None, name=\"lstm_out\")(lstm_1)\n",
    "\n",
    "#decoder layers\n",
    "decoder_0 = decoder.get_layer(\"decoder_0\")(lstm_out)\n",
    "decoder_0.trainable = False\n",
    "decoder_1 = decoder.get_layer(\"decoder_1\")(decoder_0)\n",
    "decoder_1.trainable = False\n",
    "decoder_output = decoder.get_layer(\"decoder_output\")(decoder_1)\n",
    "decoder_output.trainable = False\n",
    "\n",
    "model = Model(inputs, decoder_output, name=\"model_v1\")\n",
    "optimizer = tf.keras.optimizers.Adam(lr=0.0001, beta_1=0.9, beta_2=0.999, epsilon=None, decay=0.00, amsgrad=False)\n",
    "model.compile(optimizer=optimizer, loss='mse')\n",
    "model.summary()"
   ]
  },
  {
   "cell_type": "markdown",
   "metadata": {},
   "source": [
    "## Autoencoder\n",
    "The final pipeline will pass the data into an LSTM and then into an autoencoder to expand features into the 63 point space. This autoencoder will be trained first below:"
   ]
  },
  {
   "cell_type": "code",
   "execution_count": 16,
   "metadata": {},
   "outputs": [],
   "source": [
    "feature_ar = df.loc[:, 'ch1':'ch8'].values\n",
    "label_ar = df.loc[:, 'Wrist x':].values"
   ]
  },
  {
   "cell_type": "code",
   "execution_count": 17,
   "metadata": {},
   "outputs": [
    {
     "data": {
      "text/plain": [
       "(106979, 8)"
      ]
     },
     "execution_count": 17,
     "metadata": {},
     "output_type": "execute_result"
    }
   ],
   "source": [
    "feature_ar.shape"
   ]
  },
  {
   "cell_type": "code",
   "execution_count": 18,
   "metadata": {},
   "outputs": [
    {
     "data": {
      "text/plain": [
       "(106979, 63)"
      ]
     },
     "execution_count": 18,
     "metadata": {},
     "output_type": "execute_result"
    }
   ],
   "source": [
    "label_ar.shape"
   ]
  },
  {
   "cell_type": "markdown",
   "metadata": {},
   "source": [
    "Build the autoencoder structure:"
   ]
  },
  {
   "cell_type": "code",
   "execution_count": 19,
   "metadata": {},
   "outputs": [
    {
     "name": "stdout",
     "output_type": "stream",
     "text": [
      "WARNING:tensorflow:From /nfs/2018/j/jcruz-y-/miniconda3/lib/python3.7/site-packages/tensorflow/python/ops/resource_variable_ops.py:435: colocate_with (from tensorflow.python.framework.ops) is deprecated and will be removed in a future version.\n",
      "Instructions for updating:\n",
      "Colocations handled automatically by placer.\n",
      "WARNING:tensorflow:From /nfs/2018/j/jcruz-y-/miniconda3/lib/python3.7/site-packages/tensorflow/python/keras/utils/losses_utils.py:170: to_float (from tensorflow.python.ops.math_ops) is deprecated and will be removed in a future version.\n",
      "Instructions for updating:\n",
      "Use tf.cast instead.\n",
      "_________________________________________________________________\n",
      "Layer (type)                 Output Shape              Param #   \n",
      "=================================================================\n",
      "input_1 (InputLayer)         (None, 63)                0         \n",
      "_________________________________________________________________\n",
      "dense (Dense)                (None, 32)                2048      \n",
      "_________________________________________________________________\n",
      "dense_1 (Dense)              (None, 16)                528       \n",
      "_________________________________________________________________\n",
      "dense_2 (Dense)              (None, 9)                 153       \n",
      "_________________________________________________________________\n",
      "decoder_0 (Dense)            (None, 32)                320       \n",
      "_________________________________________________________________\n",
      "decoder_1 (Dense)            (None, 16)                528       \n",
      "_________________________________________________________________\n",
      "decoder_output (Dense)       (None, 63)                1071      \n",
      "=================================================================\n",
      "Total params: 4,648\n",
      "Trainable params: 4,648\n",
      "Non-trainable params: 0\n",
      "_________________________________________________________________\n"
     ]
    }
   ],
   "source": [
    "encoding_dim = 9 #dimensionality of 'feature' vector\n",
    "\n",
    "a_fn = None\n",
    "\n",
    "# Full autoencoder\n",
    "input_vec = Input(shape=(63,))\n",
    "dense_0 = Dense(32, activation=a_fn)(input_vec)\n",
    "dense_1 = Dense(16, activation=a_fn)(dense_0)\n",
    "encoded = Dense(encoding_dim, activation=a_fn)(dense_1)\n",
    "dense_2 = Dense(32, activation=a_fn, name='decoder_0')(encoded)\n",
    "dense_3 = Dense(16, activation=a_fn, name='decoder_1')(dense_2)\n",
    "decoded = Dense(63, activation=a_fn, name='decoder_output')(dense_3)\n",
    "\n",
    "autoencoder = Model(input_vec, decoded)\n",
    "\n",
    "# Encoder from autoencoder\n",
    "encoder = Model(input_vec, encoded)\n",
    "\n",
    "# Decoder from autoencoder layers\n",
    "decoder_input = Input(shape=(encoding_dim,), name='encoded_input')\n",
    "decode_0 = autoencoder.layers[-3](decoder_input)\n",
    "decode_1 = autoencoder.layers[-2](decode_0)\n",
    "decode_output = autoencoder.layers[-1](decode_1)\n",
    "decoder = Model(decoder_input, decode_output, name='decoder')\n",
    "\n",
    "# Train Autoencoder\n",
    "optimizer = tf.keras.optimizers.Adam(lr=0.0005, beta_1=0.9, beta_2=0.999, epsilon=None, decay=0.0, amsgrad=False)\n",
    "autoencoder.compile(optimizer=optimizer, loss='mean_squared_error')\n",
    "autoencoder.summary()"
   ]
  },
  {
   "cell_type": "code",
   "execution_count": 20,
   "metadata": {},
   "outputs": [
    {
     "name": "stdout",
     "output_type": "stream",
     "text": [
      "106979/106979 [==============================] - 2s 22us/sample - loss: 2075.7868\n"
     ]
    },
    {
     "data": {
      "text/plain": [
       "2075.7868355574788"
      ]
     },
     "execution_count": 20,
     "metadata": {},
     "output_type": "execute_result"
    }
   ],
   "source": [
    "autoencoder.evaluate(label_ar, label_ar)"
   ]
  },
  {
   "cell_type": "markdown",
   "metadata": {},
   "source": [
    "From the above evaluation the initial untrained loss is around 2500.\n",
    "Now train the model:"
   ]
  },
  {
   "cell_type": "code",
   "execution_count": 23,
   "metadata": {},
   "outputs": [
    {
     "name": "stdout",
     "output_type": "stream",
     "text": [
      "Train on 85583 samples, validate on 21396 samples\n",
      "Epoch 1/3\n",
      "85583/85583 [==============================] - 1s 10us/sample - loss: 27.4648 - val_loss: 30.2431\n",
      "Epoch 2/3\n",
      "85583/85583 [==============================] - 1s 10us/sample - loss: 25.0079 - val_loss: 27.6195\n",
      "Epoch 3/3\n",
      "85583/85583 [==============================] - 1s 10us/sample - loss: 23.3839 - val_loss: 26.2109\n"
     ]
    }
   ],
   "source": [
    "ret = autoencoder.fit(label_ar, label_ar, batch_size=312, epochs=3, verbose=1, validation_split=0.2)"
   ]
  },
  {
   "cell_type": "markdown",
   "metadata": {},
   "source": [
    "Now the encoder - decoder pair will be tested seperately for loss:"
   ]
  },
  {
   "cell_type": "code",
   "execution_count": 24,
   "metadata": {},
   "outputs": [
    {
     "name": "stdout",
     "output_type": "stream",
     "text": [
      "106979/106979 [==============================] - 2s 17us/sample - loss: 23.4510\n"
     ]
    },
    {
     "data": {
      "text/plain": [
       "23.450966647503495"
      ]
     },
     "execution_count": 24,
     "metadata": {},
     "output_type": "execute_result"
    }
   ],
   "source": [
    "encoded_vec = encoder.predict(label_ar)\n",
    "decoded_vec = decoder.predict(encoded_vec)\n",
    "\n",
    "#compilation is only to enable evaluation\n",
    "decoder.compile(optimizer='adam', loss='mse')\n",
    "decoder.evaluate(encoded_vec, label_ar)"
   ]
  },
  {
   "cell_type": "code",
   "execution_count": 25,
   "metadata": {},
   "outputs": [
    {
     "name": "stdout",
     "output_type": "stream",
     "text": [
      "(106979, 9)\n",
      "(106979, 63)\n"
     ]
    }
   ],
   "source": [
    "print(encoded_vec.shape)\n",
    "print(decoded_vec.shape)"
   ]
  },
  {
   "cell_type": "markdown",
   "metadata": {},
   "source": [
    "## LSTM\n",
    "Here the lstm will be trained. The 8 channels of sEMG data will be processed by the LSTM, which will return a vector of 9 complex features. These will then be processed by the autoencoder, trained in the previous section, to create the 63 hand coordinates.\n",
    "\n",
    "To train the sequential recurrent LSTM the data will be grouped into 'sequences' of 24 steps in time. The LSTM will be trained with many sequence groups."
   ]
  },
  {
   "cell_type": "code",
   "execution_count": 10,
   "metadata": {},
   "outputs": [
    {
     "ename": "NameError",
     "evalue": "name 'feature_ar' is not defined",
     "output_type": "error",
     "traceback": [
      "\u001b[0;31m---------------------------------------------------------------------------\u001b[0m",
      "\u001b[0;31mNameError\u001b[0m                                 Traceback (most recent call last)",
      "\u001b[0;32m<ipython-input-10-62d9b3fce720>\u001b[0m in \u001b[0;36m<module>\u001b[0;34m\u001b[0m\n\u001b[1;32m      7\u001b[0m     \u001b[0;32mreturn\u001b[0m \u001b[0mnew_f\u001b[0m\u001b[0;34m,\u001b[0m \u001b[0mnew_l\u001b[0m\u001b[0;34m\u001b[0m\u001b[0;34m\u001b[0m\u001b[0m\n\u001b[1;32m      8\u001b[0m \u001b[0;34m\u001b[0m\u001b[0m\n\u001b[0;32m----> 9\u001b[0;31m \u001b[0mfeatures\u001b[0m\u001b[0;34m,\u001b[0m \u001b[0mlabels\u001b[0m \u001b[0;34m=\u001b[0m \u001b[0moverlap_samples\u001b[0m\u001b[0;34m(\u001b[0m\u001b[0mseq_length\u001b[0m\u001b[0;34m,\u001b[0m \u001b[0mfeature_ar\u001b[0m\u001b[0;34m,\u001b[0m \u001b[0mlabel_ar\u001b[0m\u001b[0;34m)\u001b[0m\u001b[0;34m\u001b[0m\u001b[0;34m\u001b[0m\u001b[0m\n\u001b[0m\u001b[1;32m     10\u001b[0m \u001b[0mprint\u001b[0m\u001b[0;34m(\u001b[0m\u001b[0mfeatures\u001b[0m\u001b[0;34m.\u001b[0m\u001b[0mshape\u001b[0m\u001b[0;34m)\u001b[0m\u001b[0;34m\u001b[0m\u001b[0;34m\u001b[0m\u001b[0m\n\u001b[1;32m     11\u001b[0m \u001b[0mprint\u001b[0m\u001b[0;34m(\u001b[0m\u001b[0mlabels\u001b[0m\u001b[0;34m.\u001b[0m\u001b[0mshape\u001b[0m\u001b[0;34m)\u001b[0m\u001b[0;34m\u001b[0m\u001b[0;34m\u001b[0m\u001b[0m\n",
      "\u001b[0;31mNameError\u001b[0m: name 'feature_ar' is not defined"
     ]
    }
   ],
   "source": [
    "seq_length = 24\n",
    "\n",
    "def overlap_samples(seq_length, feats, labels):\n",
    "    new_l = labels[seq_length - 1:]\n",
    "    feat_list = [feats[i:i + seq_length] for i in range(feats.shape[0] - seq_length + 1)]\n",
    "    new_f = np.array(feat_list)\n",
    "    return new_f, new_l\n",
    "\n",
    "features, labels = overlap_samples(seq_length, feature_ar, label_ar)\n",
    "print(features.shape)\n",
    "print(labels.shape)"
   ]
  },
  {
   "cell_type": "markdown",
   "metadata": {},
   "source": [
    "### Attention\n",
    "**This model will incorporate a component of attention**\n"
   ]
  },
  {
   "cell_type": "markdown",
   "metadata": {},
   "source": [
    "### Model from phillip peremy\n",
    "https://github.com/philipperemy/keras-attention-mechanism/blob/master/attention_lstm.py\n",
    "Attention vector\n",
    "\n",
    "Also, sometimes the time series can be N-dimensional. It could be interesting to have one atention vector per dimension. Let's\n",
    "\n",
    "Attention can just then be a softmax applied to an output of something?\n",
    "\n",
    "The permute function switches the positions of the axis and the dims argument tells how you want the final positions to be.\n",
    "\n",
    "For example, if x is 4-dimensional and of the shape (None, 2, 4, 5, 8) - (None is the batch size here) and if you specify dims = (3, 2, 1, 4), then the following four steps will take place:\n",
    "\n",
    "1. Third dimension will move to first\n",
    "2. Second dimension will move to second\n",
    "3. First dimension will move to third\n",
    "4. Fourth dimension will move to fourth\n",
    "\n",
    "Remember, the indexing starts at 1 and not 0. The dimension zero is the batch size. So finally the output\n",
    "\n",
    "**RepeatVector**\n",
    "Repeats the input vector n times\n",
    "\n"
   ]
  },
  {
   "cell_type": "code",
   "execution_count": 19,
   "metadata": {},
   "outputs": [
    {
     "name": "stdout",
     "output_type": "stream",
     "text": [
      "WARNING:tensorflow:From /nfs/2018/j/jcruz-y-/miniconda3/lib/python3.7/site-packages/tensorflow/python/ops/resource_variable_ops.py:435: colocate_with (from tensorflow.python.framework.ops) is deprecated and will be removed in a future version.\n",
      "Instructions for updating:\n",
      "Colocations handled automatically by placer.\n",
      "__________________________________________________________________________________________________\n",
      "Layer (type)                    Output Shape         Param #     Connected to                     \n",
      "==================================================================================================\n",
      "input_1 (InputLayer)            (None, 20, 2)        0                                            \n",
      "__________________________________________________________________________________________________\n",
      "lstm (LSTM)                     (None, 20, 32)       4480        input_1[0][0]                    \n",
      "__________________________________________________________________________________________________\n",
      "permute (Permute)               (None, 32, 20)       0           lstm[0][0]                       \n",
      "__________________________________________________________________________________________________\n",
      "reshape (Reshape)               (None, 32, 20)       0           permute[0][0]                    \n",
      "__________________________________________________________________________________________________\n",
      "dense (Dense)                   (None, 32, 20)       420         reshape[0][0]                    \n",
      "__________________________________________________________________________________________________\n",
      "attention_vec (Permute)         (None, 20, 32)       0           dense[0][0]                      \n",
      "__________________________________________________________________________________________________\n",
      "add (Add)                       (None, 20, 32)       0           lstm[0][0]                       \n",
      "                                                                 attention_vec[0][0]              \n",
      "__________________________________________________________________________________________________\n",
      "flatten (Flatten)               (None, 640)          0           add[0][0]                        \n",
      "__________________________________________________________________________________________________\n",
      "dense_1 (Dense)                 (None, 1)            641         flatten[0][0]                    \n",
      "==================================================================================================\n",
      "Total params: 5,541\n",
      "Trainable params: 5,541\n",
      "Non-trainable params: 0\n",
      "__________________________________________________________________________________________________\n"
     ]
    }
   ],
   "source": [
    "INPUT_DIM = 2\n",
    "TIME_STEPS = 20\n",
    "# if True, the attention vector is shared across the input_dimensions where the attention is applied.\n",
    "SINGLE_ATTENTION_VECTOR = False\n",
    "APPLY_ATTENTION_BEFORE_LSTM = False\n",
    "\n",
    "def attention_3d_block(inputs):\n",
    "    # inputs.shape = (batch_size, time_steps, input_dim)\n",
    "    input_dim = int(inputs.shape[2])\n",
    "    a = Permute((2, 1))(inputs)\n",
    "    a = Reshape((input_dim, TIME_STEPS))(a) # this line is not useful. It's just to know which dimension is what.\n",
    "    a = Dense(TIME_STEPS, activation='softmax')(a)\n",
    "    if SINGLE_ATTENTION_VECTOR:\n",
    "        a = Lambda(lambda x: K.mean(x, axis=1), name='dim_reduction')(a)\n",
    "        a = RepeatVector(input_dim)(a)\n",
    "    a_probs = Permute((2, 1), name='attention_vec')(a)\n",
    "    output_attention_mul = Add()([inputs, a_probs])\n",
    "    return output_attention_mul\n",
    "\n",
    "def model_attention_applied_after_lstm():\n",
    "    inputs = Input(shape=(TIME_STEPS, INPUT_DIM,))\n",
    "    lstm_units = 32\n",
    "    lstm_out = LSTM(lstm_units, return_sequences=True)(inputs)\n",
    "    attention_mul = attention_3d_block(lstm_out)\n",
    "    attention_mul = Flatten()(attention_mul)\n",
    "    output = Dense(1, activation='sigmoid')(attention_mul)\n",
    "    model = Model(inputs, output)\n",
    "    return model\n",
    "\n",
    "model = model_attention_applied_after_lstm()\n",
    "model.summary()"
   ]
  },
  {
   "cell_type": "code",
   "execution_count": 35,
   "metadata": {},
   "outputs": [
    {
     "ename": "NameError",
     "evalue": "name 'model_fc' is not defined",
     "output_type": "error",
     "traceback": [
      "\u001b[0;31m---------------------------------------------------------------------------\u001b[0m",
      "\u001b[0;31mNameError\u001b[0m                                 Traceback (most recent call last)",
      "\u001b[0;32m<ipython-input-35-9e31991649b8>\u001b[0m in \u001b[0;36m<module>\u001b[0;34m\u001b[0m\n\u001b[1;32m      7\u001b[0m \u001b[0;31m#The LSTM  model -  output_shape = (batch, step, hidden)\u001b[0m\u001b[0;34m\u001b[0m\u001b[0;34m\u001b[0m\u001b[0;34m\u001b[0m\u001b[0m\n\u001b[1;32m      8\u001b[0m \u001b[0mmodel1\u001b[0m \u001b[0;34m=\u001b[0m \u001b[0mSequential\u001b[0m\u001b[0;34m(\u001b[0m\u001b[0;34m)\u001b[0m\u001b[0;34m\u001b[0m\u001b[0;34m\u001b[0m\u001b[0m\n\u001b[0;32m----> 9\u001b[0;31m \u001b[0mmodel_fc\u001b[0m\u001b[0;34m.\u001b[0m\u001b[0madd\u001b[0m\u001b[0;34m(\u001b[0m\u001b[0mLSTM\u001b[0m\u001b[0;34m(\u001b[0m\u001b[0;36m64\u001b[0m\u001b[0;34m,\u001b[0m \u001b[0mreturn_sequences\u001b[0m\u001b[0;34m=\u001b[0m\u001b[0;32mTrue\u001b[0m\u001b[0;34m,\u001b[0m \u001b[0minput_shape\u001b[0m\u001b[0;34m=\u001b[0m\u001b[0;34m(\u001b[0m\u001b[0mseq_length\u001b[0m\u001b[0;34m,\u001b[0m \u001b[0;36m8\u001b[0m\u001b[0;34m)\u001b[0m\u001b[0;34m)\u001b[0m\u001b[0;34m)\u001b[0m\u001b[0;34m\u001b[0m\u001b[0;34m\u001b[0m\u001b[0m\n\u001b[0m\u001b[1;32m     10\u001b[0m \u001b[0mmodel1\u001b[0m\u001b[0;34m.\u001b[0m\u001b[0madd\u001b[0m\u001b[0;34m(\u001b[0m\u001b[0mLSTM\u001b[0m\u001b[0;34m(\u001b[0m\u001b[0minput_dim\u001b[0m\u001b[0;34m=\u001b[0m\u001b[0minput_dim\u001b[0m\u001b[0;34m,\u001b[0m \u001b[0moutput_dim\u001b[0m\u001b[0;34m=\u001b[0m\u001b[0mhidden\u001b[0m\u001b[0;34m,\u001b[0m \u001b[0minput_length\u001b[0m\u001b[0;34m=\u001b[0m\u001b[0mstep\u001b[0m\u001b[0;34m,\u001b[0m \u001b[0mreturn_sequences\u001b[0m\u001b[0;34m=\u001b[0m\u001b[0;32mTrue\u001b[0m\u001b[0;34m)\u001b[0m\u001b[0;34m)\u001b[0m\u001b[0;34m\u001b[0m\u001b[0;34m\u001b[0m\u001b[0m\n\u001b[1;32m     11\u001b[0m \u001b[0;34m\u001b[0m\u001b[0m\n",
      "\u001b[0;31mNameError\u001b[0m: name 'model_fc' is not defined"
     ]
    }
   ],
   "source": [
    "#from keras.layers.core import*\n",
    "#from keras.models import Sequential\n",
    "\n",
    "input_dim = 32\n",
    "hidden = 32\n",
    "\n",
    "#The LSTM  model -  output_shape = (batch, step, hidden)\n",
    "model1 = Sequential()\n",
    "model_fc.add(LSTM(64, return_sequences=True, input_shape=(seq_length, 8)))\n",
    "model1.add(LSTM(input_dim=input_dim, output_dim=hidden, input_length=step, return_sequences=True))\n",
    "\n",
    "#The weight model  - actual output shape  = (batch, step)\n",
    "# after reshape : output_shape = (batch, step,  hidden)\n",
    "model2 = Sequential()\n",
    "model2.add(Dense(input_dim=input_dim, output_dim=step))\n",
    "model2.add(Activation('softmax')) # Learn a probability distribution over each  step.\n",
    "#Reshape to match LSTM's output shape, so that we can do element-wise multiplication.\n",
    "model2.add(RepeatVector(hidden))\n",
    "model2.add(Permute(2, 1))\n",
    "\n",
    "#The final model which gives the weighted sum:\n",
    "model = Sequential()\n",
    "model.add(Merge([model1, model2], 'mul'))  # Multiply each element with corresponding weight a[i][j][k] * b[i][j]\n",
    "model.add(TimeDistributedMerge('sum')) # Sum the weighted elements.\n",
    "\n",
    "model.compile(loss='mse', optimizer='sgd')"
   ]
  },
  {
   "cell_type": "code",
   "execution_count": 27,
   "metadata": {},
   "outputs": [
    {
     "name": "stdout",
     "output_type": "stream",
     "text": [
      "WARNING:tensorflow:From /nfs/2018/j/jcruz-y-/miniconda3/lib/python3.7/site-packages/tensorflow/python/keras/layers/core.py:143: calling dropout (from tensorflow.python.ops.nn_ops) with keep_prob is deprecated and will be removed in a future version.\n",
      "Instructions for updating:\n",
      "Please use `rate` instead of `keep_prob`. Rate should be set to `rate = 1 - keep_prob`.\n"
     ]
    },
    {
     "ename": "NameError",
     "evalue": "name 'merge' is not defined",
     "output_type": "error",
     "traceback": [
      "\u001b[0;31m---------------------------------------------------------------------------\u001b[0m",
      "\u001b[0;31mNameError\u001b[0m                                 Traceback (most recent call last)",
      "\u001b[0;32m<ipython-input-27-17386dc19ec5>\u001b[0m in \u001b[0;36m<module>\u001b[0;34m\u001b[0m\n\u001b[1;32m     13\u001b[0m \u001b[0mattention\u001b[0m \u001b[0;34m=\u001b[0m \u001b[0mRepeatVector\u001b[0m\u001b[0;34m(\u001b[0m\u001b[0;36m100\u001b[0m\u001b[0;34m)\u001b[0m\u001b[0;34m(\u001b[0m\u001b[0mattention\u001b[0m\u001b[0;34m)\u001b[0m\u001b[0;34m\u001b[0m\u001b[0;34m\u001b[0m\u001b[0m\n\u001b[1;32m     14\u001b[0m \u001b[0mattention\u001b[0m \u001b[0;34m=\u001b[0m \u001b[0mPermute\u001b[0m\u001b[0;34m(\u001b[0m\u001b[0;34m[\u001b[0m\u001b[0;36m2\u001b[0m\u001b[0;34m,\u001b[0m \u001b[0;36m1\u001b[0m\u001b[0;34m]\u001b[0m\u001b[0;34m)\u001b[0m\u001b[0;34m(\u001b[0m\u001b[0mattention\u001b[0m\u001b[0;34m)\u001b[0m\u001b[0;34m\u001b[0m\u001b[0;34m\u001b[0m\u001b[0m\n\u001b[0;32m---> 15\u001b[0;31m \u001b[0msent_representation\u001b[0m \u001b[0;34m=\u001b[0m \u001b[0mmerge\u001b[0m\u001b[0;34m(\u001b[0m\u001b[0;34m[\u001b[0m\u001b[0mlstm_1\u001b[0m\u001b[0;34m,\u001b[0m \u001b[0mattention\u001b[0m\u001b[0;34m]\u001b[0m\u001b[0;34m)\u001b[0m\u001b[0;34m\u001b[0m\u001b[0;34m\u001b[0m\u001b[0m\n\u001b[0m\u001b[1;32m     16\u001b[0m \u001b[0mlstm_out\u001b[0m \u001b[0;34m=\u001b[0m \u001b[0mDense\u001b[0m\u001b[0;34m(\u001b[0m\u001b[0;36m9\u001b[0m\u001b[0;34m,\u001b[0m \u001b[0mactivation\u001b[0m\u001b[0;34m=\u001b[0m\u001b[0;32mNone\u001b[0m\u001b[0;34m,\u001b[0m \u001b[0mname\u001b[0m\u001b[0;34m=\u001b[0m\u001b[0;34m\"lstm_out\"\u001b[0m\u001b[0;34m)\u001b[0m\u001b[0;34m(\u001b[0m\u001b[0msent_representation\u001b[0m\u001b[0;34m)\u001b[0m\u001b[0;34m\u001b[0m\u001b[0;34m\u001b[0m\u001b[0m\n\u001b[1;32m     17\u001b[0m \u001b[0;34m\u001b[0m\u001b[0m\n",
      "\u001b[0;31mNameError\u001b[0m: name 'merge' is not defined"
     ]
    }
   ],
   "source": [
    "#lstm layers\n",
    "inputs = Input(shape=(None, 8), name=\"inputs\")\n",
    "\n",
    "lstm_0 = LSTM(100, return_sequences=True, name=\"lstm_0\")(inputs)\n",
    "do = Dropout(0.4)(lstm_0)\n",
    "lstm_1 = LSTM(100, return_sequences=False, name=\"lstm_1\")(do)\n",
    "do_2 = Dropout(0.4)(lstm_0)\n",
    "lstm_1 = LSTM(100, return_sequences=False, name=\"lstm_1\")(do_2)\n",
    "\n",
    "attention = Dense(1, activation='tanh')(lstm_1)\n",
    "attention = Flatten()(attention)\n",
    "attention = Activation('softmax')(attention)\n",
    "attention = RepeatVector(100)(attention)\n",
    "attention = Permute([2, 1])(attention)\n",
    "sent_representation = merge([lstm_1, attention])\n",
    "attention = Activation('softmax')(attention)\n",
    "lstm_out = Dense(9, activation=None, name=\"lstm_out\")(sent_representation)\n",
    "\n",
    "#decoder layers\n",
    "decoder_0 = decoder.get_layer(\"decoder_0\")(lstm_out)\n",
    "decoder_0.trainable = False\n",
    "decoder_1 = decoder.get_layer(\"decoder_1\")(decoder_0)\n",
    "decoder_1.trainable = False\n",
    "decoder_output = decoder.get_layer(\"decoder_output\")(decoder_1)\n",
    "decoder_output.trainable = False\n",
    "\n",
    "model = Model(inputs, decoder_output, name=\"model_v1\")\n",
    "optimizer = tf.keras.optimizers.Adam(lr=0.0001, beta_1=0.9, beta_2=0.999, epsilon=None, decay=0.00, amsgrad=False)\n",
    "model.compile(optimizer=optimizer, loss='mse')\n",
    "model.summary()"
   ]
  },
  {
   "cell_type": "markdown",
   "metadata": {},
   "source": [
    "### LSTM model"
   ]
  },
  {
   "cell_type": "code",
   "execution_count": 31,
   "metadata": {},
   "outputs": [
    {
     "name": "stdout",
     "output_type": "stream",
     "text": [
      "_________________________________________________________________\n",
      "Layer (type)                 Output Shape              Param #   \n",
      "=================================================================\n",
      "inputs (InputLayer)          (None, None, 8)           0         \n",
      "_________________________________________________________________\n",
      "lstm_0 (LSTM)                (None, None, 100)         43600     \n",
      "_________________________________________________________________\n",
      "dropout_8 (Dropout)          (None, None, 100)         0         \n",
      "_________________________________________________________________\n",
      "lstm_1 (LSTM)                (None, 100)               80400     \n",
      "_________________________________________________________________\n",
      "lstm_out (Dense)             (None, 9)                 909       \n",
      "_________________________________________________________________\n",
      "decoder_0 (Dense)            (None, 32)                320       \n",
      "_________________________________________________________________\n",
      "decoder_1 (Dense)            (None, 16)                528       \n",
      "_________________________________________________________________\n",
      "decoder_output (Dense)       (None, 63)                1071      \n",
      "=================================================================\n",
      "Total params: 126,828\n",
      "Trainable params: 126,828\n",
      "Non-trainable params: 0\n",
      "_________________________________________________________________\n"
     ]
    }
   ],
   "source": [
    "#lstm layers\n",
    "inputs = Input(shape=(None, 8), name=\"inputs\")\n",
    "lstm_0 = LSTM(100, return_sequences=True, name=\"lstm_0\")(inputs)\n",
    "do = Dropout(0.4)(lstm_0)\n",
    "lstm_1 = LSTM(100, return_sequences=False, name=\"lstm_1\")(do)\n",
    "do_2 = Dropout(0.4)(lstm_0)\n",
    "lstm_1 = LSTM(100, return_sequences=False, name=\"lstm_1\")(do_2)\n",
    "lstm_out = Dense(9, activation=None, name=\"lstm_out\")(lstm_1)\n",
    "\n",
    "#decoder layers\n",
    "decoder_0 = decoder.get_layer(\"decoder_0\")(lstm_out)\n",
    "decoder_0.trainable = False\n",
    "decoder_1 = decoder.get_layer(\"decoder_1\")(decoder_0)\n",
    "decoder_1.trainable = False\n",
    "decoder_output = decoder.get_layer(\"decoder_output\")(decoder_1)\n",
    "decoder_output.trainable = False\n",
    "\n",
    "model = Model(inputs, decoder_output, name=\"model_v1\")\n",
    "optimizer = tf.keras.optimizers.Adam(lr=0.0001, beta_1=0.9, beta_2=0.999, epsilon=None, decay=0.00, amsgrad=False)\n",
    "model.compile(optimizer=optimizer, loss='mse')\n",
    "model.summary()"
   ]
  },
  {
   "cell_type": "code",
   "execution_count": 32,
   "metadata": {},
   "outputs": [
    {
     "name": "stdout",
     "output_type": "stream",
     "text": [
      "388658/388658 [==============================] - 164s 422us/sample - loss: 731.0006\n"
     ]
    },
    {
     "data": {
      "text/plain": [
       "731.000609906823"
      ]
     },
     "execution_count": 32,
     "metadata": {},
     "output_type": "execute_result"
    }
   ],
   "source": [
    "model.evaluate(features, labels, verbose=1)"
   ]
  },
  {
   "cell_type": "code",
   "execution_count": 33,
   "metadata": {},
   "outputs": [
    {
     "name": "stdout",
     "output_type": "stream",
     "text": [
      "Train on 310926 samples, validate on 77732 samples\n",
      "Epoch 1/4\n",
      "310926/310926 [==============================] - 588s 2ms/sample - loss: 203.7043 - val_loss: 598.5922\n",
      "Epoch 2/4\n",
      "310926/310926 [==============================] - 582s 2ms/sample - loss: 154.3962 - val_loss: 596.6076\n",
      "Epoch 3/4\n",
      "140448/310926 [============>.................] - ETA: 5:01 - loss: 140.8171"
     ]
    },
    {
     "ename": "KeyboardInterrupt",
     "evalue": "",
     "output_type": "error",
     "traceback": [
      "\u001b[0;31m---------------------------------------------------------------------------\u001b[0m",
      "\u001b[0;31mKeyboardInterrupt\u001b[0m                         Traceback (most recent call last)",
      "\u001b[0;32m<ipython-input-33-d38279c314b1>\u001b[0m in \u001b[0;36m<module>\u001b[0;34m\u001b[0m\n\u001b[0;32m----> 1\u001b[0;31m \u001b[0mhistory\u001b[0m \u001b[0;34m=\u001b[0m \u001b[0mmodel\u001b[0m\u001b[0;34m.\u001b[0m\u001b[0mfit\u001b[0m\u001b[0;34m(\u001b[0m\u001b[0mfeatures\u001b[0m\u001b[0;34m,\u001b[0m \u001b[0mlabels\u001b[0m\u001b[0;34m,\u001b[0m \u001b[0mbatch_size\u001b[0m\u001b[0;34m=\u001b[0m\u001b[0mseq_length\u001b[0m\u001b[0;34m,\u001b[0m \u001b[0mepochs\u001b[0m\u001b[0;34m=\u001b[0m\u001b[0;36m4\u001b[0m\u001b[0;34m,\u001b[0m \u001b[0mverbose\u001b[0m\u001b[0;34m=\u001b[0m\u001b[0;36m1\u001b[0m\u001b[0;34m,\u001b[0m \u001b[0mvalidation_split\u001b[0m\u001b[0;34m=\u001b[0m\u001b[0;36m0.2\u001b[0m\u001b[0;34m)\u001b[0m\u001b[0;34m\u001b[0m\u001b[0;34m\u001b[0m\u001b[0m\n\u001b[0m",
      "\u001b[0;32m~/miniconda3/lib/python3.7/site-packages/tensorflow/python/keras/engine/training.py\u001b[0m in \u001b[0;36mfit\u001b[0;34m(self, x, y, batch_size, epochs, verbose, callbacks, validation_split, validation_data, shuffle, class_weight, sample_weight, initial_epoch, steps_per_epoch, validation_steps, max_queue_size, workers, use_multiprocessing, **kwargs)\u001b[0m\n\u001b[1;32m    878\u001b[0m           \u001b[0minitial_epoch\u001b[0m\u001b[0;34m=\u001b[0m\u001b[0minitial_epoch\u001b[0m\u001b[0;34m,\u001b[0m\u001b[0;34m\u001b[0m\u001b[0;34m\u001b[0m\u001b[0m\n\u001b[1;32m    879\u001b[0m           \u001b[0msteps_per_epoch\u001b[0m\u001b[0;34m=\u001b[0m\u001b[0msteps_per_epoch\u001b[0m\u001b[0;34m,\u001b[0m\u001b[0;34m\u001b[0m\u001b[0;34m\u001b[0m\u001b[0m\n\u001b[0;32m--> 880\u001b[0;31m           validation_steps=validation_steps)\n\u001b[0m\u001b[1;32m    881\u001b[0m \u001b[0;34m\u001b[0m\u001b[0m\n\u001b[1;32m    882\u001b[0m   def evaluate(self,\n",
      "\u001b[0;32m~/miniconda3/lib/python3.7/site-packages/tensorflow/python/keras/engine/training_arrays.py\u001b[0m in \u001b[0;36mmodel_iteration\u001b[0;34m(model, inputs, targets, sample_weights, batch_size, epochs, verbose, callbacks, val_inputs, val_targets, val_sample_weights, shuffle, initial_epoch, steps_per_epoch, validation_steps, mode, validation_in_fit, **kwargs)\u001b[0m\n\u001b[1;32m    327\u001b[0m \u001b[0;34m\u001b[0m\u001b[0m\n\u001b[1;32m    328\u001b[0m         \u001b[0;31m# Get outputs.\u001b[0m\u001b[0;34m\u001b[0m\u001b[0;34m\u001b[0m\u001b[0;34m\u001b[0m\u001b[0m\n\u001b[0;32m--> 329\u001b[0;31m         \u001b[0mbatch_outs\u001b[0m \u001b[0;34m=\u001b[0m \u001b[0mf\u001b[0m\u001b[0;34m(\u001b[0m\u001b[0mins_batch\u001b[0m\u001b[0;34m)\u001b[0m\u001b[0;34m\u001b[0m\u001b[0;34m\u001b[0m\u001b[0m\n\u001b[0m\u001b[1;32m    330\u001b[0m         \u001b[0;32mif\u001b[0m \u001b[0;32mnot\u001b[0m \u001b[0misinstance\u001b[0m\u001b[0;34m(\u001b[0m\u001b[0mbatch_outs\u001b[0m\u001b[0;34m,\u001b[0m \u001b[0mlist\u001b[0m\u001b[0;34m)\u001b[0m\u001b[0;34m:\u001b[0m\u001b[0;34m\u001b[0m\u001b[0;34m\u001b[0m\u001b[0m\n\u001b[1;32m    331\u001b[0m           \u001b[0mbatch_outs\u001b[0m \u001b[0;34m=\u001b[0m \u001b[0;34m[\u001b[0m\u001b[0mbatch_outs\u001b[0m\u001b[0;34m]\u001b[0m\u001b[0;34m\u001b[0m\u001b[0;34m\u001b[0m\u001b[0m\n",
      "\u001b[0;32m~/miniconda3/lib/python3.7/site-packages/tensorflow/python/keras/backend.py\u001b[0m in \u001b[0;36m__call__\u001b[0;34m(self, inputs)\u001b[0m\n\u001b[1;32m   3074\u001b[0m \u001b[0;34m\u001b[0m\u001b[0m\n\u001b[1;32m   3075\u001b[0m     fetched = self._callable_fn(*array_vals,\n\u001b[0;32m-> 3076\u001b[0;31m                                 run_metadata=self.run_metadata)\n\u001b[0m\u001b[1;32m   3077\u001b[0m     \u001b[0mself\u001b[0m\u001b[0;34m.\u001b[0m\u001b[0m_call_fetch_callbacks\u001b[0m\u001b[0;34m(\u001b[0m\u001b[0mfetched\u001b[0m\u001b[0;34m[\u001b[0m\u001b[0;34m-\u001b[0m\u001b[0mlen\u001b[0m\u001b[0;34m(\u001b[0m\u001b[0mself\u001b[0m\u001b[0;34m.\u001b[0m\u001b[0m_fetches\u001b[0m\u001b[0;34m)\u001b[0m\u001b[0;34m:\u001b[0m\u001b[0;34m]\u001b[0m\u001b[0;34m)\u001b[0m\u001b[0;34m\u001b[0m\u001b[0;34m\u001b[0m\u001b[0m\n\u001b[1;32m   3078\u001b[0m     return nest.pack_sequence_as(self._outputs_structure,\n",
      "\u001b[0;32m~/miniconda3/lib/python3.7/site-packages/tensorflow/python/client/session.py\u001b[0m in \u001b[0;36m__call__\u001b[0;34m(self, *args, **kwargs)\u001b[0m\n\u001b[1;32m   1437\u001b[0m           ret = tf_session.TF_SessionRunCallable(\n\u001b[1;32m   1438\u001b[0m               \u001b[0mself\u001b[0m\u001b[0;34m.\u001b[0m\u001b[0m_session\u001b[0m\u001b[0;34m.\u001b[0m\u001b[0m_session\u001b[0m\u001b[0;34m,\u001b[0m \u001b[0mself\u001b[0m\u001b[0;34m.\u001b[0m\u001b[0m_handle\u001b[0m\u001b[0;34m,\u001b[0m \u001b[0margs\u001b[0m\u001b[0;34m,\u001b[0m \u001b[0mstatus\u001b[0m\u001b[0;34m,\u001b[0m\u001b[0;34m\u001b[0m\u001b[0;34m\u001b[0m\u001b[0m\n\u001b[0;32m-> 1439\u001b[0;31m               run_metadata_ptr)\n\u001b[0m\u001b[1;32m   1440\u001b[0m         \u001b[0;32mif\u001b[0m \u001b[0mrun_metadata\u001b[0m\u001b[0;34m:\u001b[0m\u001b[0;34m\u001b[0m\u001b[0;34m\u001b[0m\u001b[0m\n\u001b[1;32m   1441\u001b[0m           \u001b[0mproto_data\u001b[0m \u001b[0;34m=\u001b[0m \u001b[0mtf_session\u001b[0m\u001b[0;34m.\u001b[0m\u001b[0mTF_GetBuffer\u001b[0m\u001b[0;34m(\u001b[0m\u001b[0mrun_metadata_ptr\u001b[0m\u001b[0;34m)\u001b[0m\u001b[0;34m\u001b[0m\u001b[0;34m\u001b[0m\u001b[0m\n",
      "\u001b[0;31mKeyboardInterrupt\u001b[0m: "
     ]
    }
   ],
   "source": [
    "history = model.fit(features, labels, batch_size=seq_length, epochs=4, verbose=1, validation_split=0.2)"
   ]
  },
  {
   "cell_type": "code",
   "execution_count": 23,
   "metadata": {},
   "outputs": [],
   "source": [
    "model.save('AE_jose_mega_val_loss_600_model.h5')"
   ]
  },
  {
   "cell_type": "markdown",
   "metadata": {},
   "source": [
    "### Visualize Model Error"
   ]
  },
  {
   "cell_type": "markdown",
   "metadata": {},
   "source": [
    "Plot the validation loss over the training epochs:"
   ]
  },
  {
   "cell_type": "code",
   "execution_count": 34,
   "metadata": {},
   "outputs": [
    {
     "data": {
      "text/plain": [
       "<matplotlib.legend.Legend at 0x19bef4d68>"
      ]
     },
     "execution_count": 34,
     "metadata": {},
     "output_type": "execute_result"
    },
    {
     "data": {
      "image/png": "[encoded data removed]",
      "text/plain": [
       "<Figure size 432x288 with 1 Axes>"
      ]
     },
     "metadata": {
      "needs_background": "light"
     },
     "output_type": "display_data"
    }
   ],
   "source": [
    "plt.plot(history.history['loss'])\n",
    "plt.plot(history.history['val_loss'])\n",
    "plt.legend(['Train', 'Test'])"
   ]
  },
  {
   "cell_type": "markdown",
   "metadata": {},
   "source": [
    "Plotting the errors for each field below shows that the 'y' coordinates for each figure generally have the largest error and the errors growing rapidly approaching the tips of the fingers."
   ]
  },
  {
   "cell_type": "code",
   "execution_count": 35,
   "metadata": {},
   "outputs": [],
   "source": [
    "preds = model.predict(features)"
   ]
  },
  {
   "cell_type": "code",
   "execution_count": 36,
   "metadata": {},
   "outputs": [
    {
     "ename": "ValueError",
     "evalue": "shape mismatch: objects cannot be broadcast to a single shape",
     "output_type": "error",
     "traceback": [
      "\u001b[0;31m---------------------------------------------------------------------------\u001b[0m",
      "\u001b[0;31mValueError\u001b[0m                                Traceback (most recent call last)",
      "\u001b[0;32m<ipython-input-36-17377843fbde>\u001b[0m in \u001b[0;36m<module>\u001b[0;34m\u001b[0m\n\u001b[1;32m      5\u001b[0m \u001b[0mplt\u001b[0m\u001b[0;34m.\u001b[0m\u001b[0mxticks\u001b[0m\u001b[0;34m(\u001b[0m\u001b[0mrotation\u001b[0m\u001b[0;34m=\u001b[0m\u001b[0;36m90\u001b[0m\u001b[0;34m)\u001b[0m\u001b[0;34m\u001b[0m\u001b[0;34m\u001b[0m\u001b[0m\n\u001b[1;32m      6\u001b[0m \u001b[0mplt\u001b[0m\u001b[0;34m.\u001b[0m\u001b[0mylabel\u001b[0m\u001b[0;34m(\u001b[0m\u001b[0;34m'Prediction Error (mm)'\u001b[0m\u001b[0;34m)\u001b[0m\u001b[0;34m\u001b[0m\u001b[0;34m\u001b[0m\u001b[0m\n\u001b[0;32m----> 7\u001b[0;31m \u001b[0mbar\u001b[0m \u001b[0;34m=\u001b[0m \u001b[0mplt\u001b[0m\u001b[0;34m.\u001b[0m\u001b[0mbar\u001b[0m\u001b[0;34m(\u001b[0m\u001b[0mdf\u001b[0m\u001b[0;34m.\u001b[0m\u001b[0mcolumns\u001b[0m\u001b[0;34m[\u001b[0m\u001b[0;36m8\u001b[0m\u001b[0;34m:\u001b[0m\u001b[0;34m]\u001b[0m\u001b[0;34m,\u001b[0m \u001b[0mavg_error\u001b[0m\u001b[0;34m)\u001b[0m\u001b[0;34m\u001b[0m\u001b[0;34m\u001b[0m\u001b[0m\n\u001b[0m\u001b[1;32m      8\u001b[0m \u001b[0;32mfor\u001b[0m \u001b[0mi\u001b[0m \u001b[0;32min\u001b[0m \u001b[0mrange\u001b[0m\u001b[0;34m(\u001b[0m\u001b[0;36m0\u001b[0m\u001b[0;34m,\u001b[0m\u001b[0;36m63\u001b[0m\u001b[0;34m,\u001b[0m\u001b[0;36m3\u001b[0m\u001b[0;34m)\u001b[0m\u001b[0;34m:\u001b[0m\u001b[0;34m\u001b[0m\u001b[0;34m\u001b[0m\u001b[0m\n\u001b[1;32m      9\u001b[0m     \u001b[0mbar\u001b[0m\u001b[0;34m[\u001b[0m\u001b[0mi\u001b[0m\u001b[0;34m]\u001b[0m\u001b[0;34m.\u001b[0m\u001b[0mset_color\u001b[0m\u001b[0;34m(\u001b[0m\u001b[0;34m'coral'\u001b[0m\u001b[0;34m)\u001b[0m\u001b[0;34m\u001b[0m\u001b[0;34m\u001b[0m\u001b[0m\n",
      "\u001b[0;32m~/.local/lib/python3.7/site-packages/matplotlib/pyplot.py\u001b[0m in \u001b[0;36mbar\u001b[0;34m(x, height, width, bottom, align, data, **kwargs)\u001b[0m\n\u001b[1;32m   2432\u001b[0m     return gca().bar(\n\u001b[1;32m   2433\u001b[0m         \u001b[0mx\u001b[0m\u001b[0;34m,\u001b[0m \u001b[0mheight\u001b[0m\u001b[0;34m,\u001b[0m \u001b[0mwidth\u001b[0m\u001b[0;34m=\u001b[0m\u001b[0mwidth\u001b[0m\u001b[0;34m,\u001b[0m \u001b[0mbottom\u001b[0m\u001b[0;34m=\u001b[0m\u001b[0mbottom\u001b[0m\u001b[0;34m,\u001b[0m \u001b[0malign\u001b[0m\u001b[0;34m=\u001b[0m\u001b[0malign\u001b[0m\u001b[0;34m,\u001b[0m\u001b[0;34m\u001b[0m\u001b[0;34m\u001b[0m\u001b[0m\n\u001b[0;32m-> 2434\u001b[0;31m         **({\"data\": data} if data is not None else {}), **kwargs)\n\u001b[0m\u001b[1;32m   2435\u001b[0m \u001b[0;34m\u001b[0m\u001b[0m\n\u001b[1;32m   2436\u001b[0m \u001b[0;34m\u001b[0m\u001b[0m\n",
      "\u001b[0;32m~/.local/lib/python3.7/site-packages/matplotlib/__init__.py\u001b[0m in \u001b[0;36minner\u001b[0;34m(ax, data, *args, **kwargs)\u001b[0m\n\u001b[1;32m   1587\u001b[0m     \u001b[0;32mdef\u001b[0m \u001b[0minner\u001b[0m\u001b[0;34m(\u001b[0m\u001b[0max\u001b[0m\u001b[0;34m,\u001b[0m \u001b[0;34m*\u001b[0m\u001b[0margs\u001b[0m\u001b[0;34m,\u001b[0m \u001b[0mdata\u001b[0m\u001b[0;34m=\u001b[0m\u001b[0;32mNone\u001b[0m\u001b[0;34m,\u001b[0m \u001b[0;34m**\u001b[0m\u001b[0mkwargs\u001b[0m\u001b[0;34m)\u001b[0m\u001b[0;34m:\u001b[0m\u001b[0;34m\u001b[0m\u001b[0;34m\u001b[0m\u001b[0m\n\u001b[1;32m   1588\u001b[0m         \u001b[0;32mif\u001b[0m \u001b[0mdata\u001b[0m \u001b[0;32mis\u001b[0m \u001b[0;32mNone\u001b[0m\u001b[0;34m:\u001b[0m\u001b[0;34m\u001b[0m\u001b[0;34m\u001b[0m\u001b[0m\n\u001b[0;32m-> 1589\u001b[0;31m             \u001b[0;32mreturn\u001b[0m \u001b[0mfunc\u001b[0m\u001b[0;34m(\u001b[0m\u001b[0max\u001b[0m\u001b[0;34m,\u001b[0m \u001b[0;34m*\u001b[0m\u001b[0mmap\u001b[0m\u001b[0;34m(\u001b[0m\u001b[0msanitize_sequence\u001b[0m\u001b[0;34m,\u001b[0m \u001b[0margs\u001b[0m\u001b[0;34m)\u001b[0m\u001b[0;34m,\u001b[0m \u001b[0;34m**\u001b[0m\u001b[0mkwargs\u001b[0m\u001b[0;34m)\u001b[0m\u001b[0;34m\u001b[0m\u001b[0;34m\u001b[0m\u001b[0m\n\u001b[0m\u001b[1;32m   1590\u001b[0m \u001b[0;34m\u001b[0m\u001b[0m\n\u001b[1;32m   1591\u001b[0m         \u001b[0mbound\u001b[0m \u001b[0;34m=\u001b[0m \u001b[0mnew_sig\u001b[0m\u001b[0;34m.\u001b[0m\u001b[0mbind\u001b[0m\u001b[0;34m(\u001b[0m\u001b[0max\u001b[0m\u001b[0;34m,\u001b[0m \u001b[0;34m*\u001b[0m\u001b[0margs\u001b[0m\u001b[0;34m,\u001b[0m \u001b[0;34m**\u001b[0m\u001b[0mkwargs\u001b[0m\u001b[0;34m)\u001b[0m\u001b[0;34m\u001b[0m\u001b[0;34m\u001b[0m\u001b[0m\n",
      "\u001b[0;32m~/.local/lib/python3.7/site-packages/matplotlib/axes/_axes.py\u001b[0m in \u001b[0;36mbar\u001b[0;34m(self, x, height, width, bottom, align, **kwargs)\u001b[0m\n\u001b[1;32m   2373\u001b[0m         x, height, width, y, linewidth = np.broadcast_arrays(\n\u001b[1;32m   2374\u001b[0m             \u001b[0;31m# Make args iterable too.\u001b[0m\u001b[0;34m\u001b[0m\u001b[0;34m\u001b[0m\u001b[0;34m\u001b[0m\u001b[0m\n\u001b[0;32m-> 2375\u001b[0;31m             np.atleast_1d(x), height, width, y, linewidth)\n\u001b[0m\u001b[1;32m   2376\u001b[0m \u001b[0;34m\u001b[0m\u001b[0m\n\u001b[1;32m   2377\u001b[0m         \u001b[0;31m# Now that units have been converted, set the tick locations.\u001b[0m\u001b[0;34m\u001b[0m\u001b[0;34m\u001b[0m\u001b[0;34m\u001b[0m\u001b[0m\n",
      "\u001b[0;32m~/.local/lib/python3.7/site-packages/numpy/lib/stride_tricks.py\u001b[0m in \u001b[0;36mbroadcast_arrays\u001b[0;34m(*args, **kwargs)\u001b[0m\n\u001b[1;32m    257\u001b[0m     \u001b[0margs\u001b[0m \u001b[0;34m=\u001b[0m \u001b[0;34m[\u001b[0m\u001b[0mnp\u001b[0m\u001b[0;34m.\u001b[0m\u001b[0marray\u001b[0m\u001b[0;34m(\u001b[0m\u001b[0m_m\u001b[0m\u001b[0;34m,\u001b[0m \u001b[0mcopy\u001b[0m\u001b[0;34m=\u001b[0m\u001b[0;32mFalse\u001b[0m\u001b[0;34m,\u001b[0m \u001b[0msubok\u001b[0m\u001b[0;34m=\u001b[0m\u001b[0msubok\u001b[0m\u001b[0;34m)\u001b[0m \u001b[0;32mfor\u001b[0m \u001b[0m_m\u001b[0m \u001b[0;32min\u001b[0m \u001b[0margs\u001b[0m\u001b[0;34m]\u001b[0m\u001b[0;34m\u001b[0m\u001b[0;34m\u001b[0m\u001b[0m\n\u001b[1;32m    258\u001b[0m \u001b[0;34m\u001b[0m\u001b[0m\n\u001b[0;32m--> 259\u001b[0;31m     \u001b[0mshape\u001b[0m \u001b[0;34m=\u001b[0m \u001b[0m_broadcast_shape\u001b[0m\u001b[0;34m(\u001b[0m\u001b[0;34m*\u001b[0m\u001b[0margs\u001b[0m\u001b[0;34m)\u001b[0m\u001b[0;34m\u001b[0m\u001b[0;34m\u001b[0m\u001b[0m\n\u001b[0m\u001b[1;32m    260\u001b[0m \u001b[0;34m\u001b[0m\u001b[0m\n\u001b[1;32m    261\u001b[0m     \u001b[0;32mif\u001b[0m \u001b[0mall\u001b[0m\u001b[0;34m(\u001b[0m\u001b[0marray\u001b[0m\u001b[0;34m.\u001b[0m\u001b[0mshape\u001b[0m \u001b[0;34m==\u001b[0m \u001b[0mshape\u001b[0m \u001b[0;32mfor\u001b[0m \u001b[0marray\u001b[0m \u001b[0;32min\u001b[0m \u001b[0margs\u001b[0m\u001b[0;34m)\u001b[0m\u001b[0;34m:\u001b[0m\u001b[0;34m\u001b[0m\u001b[0;34m\u001b[0m\u001b[0m\n",
      "\u001b[0;32m~/.local/lib/python3.7/site-packages/numpy/lib/stride_tricks.py\u001b[0m in \u001b[0;36m_broadcast_shape\u001b[0;34m(*args)\u001b[0m\n\u001b[1;32m    191\u001b[0m     \u001b[0;31m# use the old-iterator because np.nditer does not handle size 0 arrays\u001b[0m\u001b[0;34m\u001b[0m\u001b[0;34m\u001b[0m\u001b[0;34m\u001b[0m\u001b[0m\n\u001b[1;32m    192\u001b[0m     \u001b[0;31m# consistently\u001b[0m\u001b[0;34m\u001b[0m\u001b[0;34m\u001b[0m\u001b[0;34m\u001b[0m\u001b[0m\n\u001b[0;32m--> 193\u001b[0;31m     \u001b[0mb\u001b[0m \u001b[0;34m=\u001b[0m \u001b[0mnp\u001b[0m\u001b[0;34m.\u001b[0m\u001b[0mbroadcast\u001b[0m\u001b[0;34m(\u001b[0m\u001b[0;34m*\u001b[0m\u001b[0margs\u001b[0m\u001b[0;34m[\u001b[0m\u001b[0;34m:\u001b[0m\u001b[0;36m32\u001b[0m\u001b[0;34m]\u001b[0m\u001b[0;34m)\u001b[0m\u001b[0;34m\u001b[0m\u001b[0;34m\u001b[0m\u001b[0m\n\u001b[0m\u001b[1;32m    194\u001b[0m     \u001b[0;31m# unfortunately, it cannot handle 32 or more arguments directly\u001b[0m\u001b[0;34m\u001b[0m\u001b[0;34m\u001b[0m\u001b[0;34m\u001b[0m\u001b[0m\n\u001b[1;32m    195\u001b[0m     \u001b[0;32mfor\u001b[0m \u001b[0mpos\u001b[0m \u001b[0;32min\u001b[0m \u001b[0mrange\u001b[0m\u001b[0;34m(\u001b[0m\u001b[0;36m32\u001b[0m\u001b[0;34m,\u001b[0m \u001b[0mlen\u001b[0m\u001b[0;34m(\u001b[0m\u001b[0margs\u001b[0m\u001b[0;34m)\u001b[0m\u001b[0;34m,\u001b[0m \u001b[0;36m31\u001b[0m\u001b[0;34m)\u001b[0m\u001b[0;34m:\u001b[0m\u001b[0;34m\u001b[0m\u001b[0;34m\u001b[0m\u001b[0m\n",
      "\u001b[0;31mValueError\u001b[0m: shape mismatch: objects cannot be broadcast to a single shape"
     ]
    },
    {
     "data": {
      "image/png": "[encoded data removed]",
      "text/plain": [
       "<Figure size 1080x720 with 1 Axes>"
      ]
     },
     "metadata": {
      "needs_background": "light"
     },
     "output_type": "display_data"
    }
   ],
   "source": [
    "error = labels - preds\n",
    "sq_error = error * error\n",
    "avg_error = np.mean(sq_error, axis=0)\n",
    "plt.figure(figsize=(15, 10))\n",
    "plt.xticks(rotation=90)\n",
    "plt.ylabel('Prediction Error (mm)')\n",
    "bar = plt.bar(df.columns[8:], avg_error)\n",
    "for i in range(0,63,3):\n",
    "    bar[i].set_color('coral')\n",
    "    bar[i+1].set_color('olivedrab')\n",
    "plt.show()"
   ]
  },
  {
   "cell_type": "markdown",
   "metadata": {},
   "source": [
    "## LSTM with Fully Connected Layers\n",
    "Below is a test using a model with several dense layers after the LSTM layers, instead of using the pretrained autoencoder."
   ]
  },
  {
   "cell_type": "code",
   "execution_count": 27,
   "metadata": {},
   "outputs": [
    {
     "name": "stdout",
     "output_type": "stream",
     "text": [
      "Train on 13160 samples, validate on 3290 samples\n",
      "Epoch 1/5\n",
      "13160/13160 [==============================] - 25s 2ms/sample - loss: 446.7564 - val_loss: 101.6531\n",
      "Epoch 2/5\n",
      " 6592/13160 [==============>...............] - ETA: 10s - loss: 118.3758"
     ]
    },
    {
     "ename": "KeyboardInterrupt",
     "evalue": "",
     "output_type": "error",
     "traceback": [
      "\u001b[0;31m---------------------------------------------------------------------------\u001b[0m",
      "\u001b[0;31mKeyboardInterrupt\u001b[0m                         Traceback (most recent call last)",
      "\u001b[0;32m<ipython-input-27-ce0d44249df2>\u001b[0m in \u001b[0;36m<module>\u001b[0;34m\u001b[0m\n\u001b[1;32m     15\u001b[0m \u001b[0mmodel_fc\u001b[0m\u001b[0;34m.\u001b[0m\u001b[0mcompile\u001b[0m\u001b[0;34m(\u001b[0m\u001b[0moptimizer\u001b[0m\u001b[0;34m=\u001b[0m\u001b[0;34m'Adam'\u001b[0m\u001b[0;34m,\u001b[0m \u001b[0mloss\u001b[0m\u001b[0;34m=\u001b[0m\u001b[0;34m'mse'\u001b[0m\u001b[0;34m)\u001b[0m\u001b[0;34m\u001b[0m\u001b[0;34m\u001b[0m\u001b[0m\n\u001b[1;32m     16\u001b[0m \u001b[0;34m\u001b[0m\u001b[0m\n\u001b[0;32m---> 17\u001b[0;31m \u001b[0mhistory\u001b[0m \u001b[0;34m=\u001b[0m \u001b[0mmodel_fc\u001b[0m\u001b[0;34m.\u001b[0m\u001b[0mfit\u001b[0m\u001b[0;34m(\u001b[0m\u001b[0mfeatures\u001b[0m\u001b[0;34m,\u001b[0m \u001b[0mlabels\u001b[0m\u001b[0;34m,\u001b[0m \u001b[0mbatch_size\u001b[0m\u001b[0;34m=\u001b[0m\u001b[0mseq_length\u001b[0m\u001b[0;34m,\u001b[0m \u001b[0mepochs\u001b[0m\u001b[0;34m=\u001b[0m\u001b[0;36m5\u001b[0m\u001b[0;34m,\u001b[0m \u001b[0mverbose\u001b[0m\u001b[0;34m=\u001b[0m\u001b[0;36m1\u001b[0m\u001b[0;34m,\u001b[0m \u001b[0mvalidation_split\u001b[0m\u001b[0;34m=\u001b[0m\u001b[0;36m0.2\u001b[0m\u001b[0;34m)\u001b[0m\u001b[0;34m\u001b[0m\u001b[0;34m\u001b[0m\u001b[0m\n\u001b[0m",
      "\u001b[0;32m~/miniconda3/lib/python3.7/site-packages/tensorflow/python/keras/engine/training.py\u001b[0m in \u001b[0;36mfit\u001b[0;34m(self, x, y, batch_size, epochs, verbose, callbacks, validation_split, validation_data, shuffle, class_weight, sample_weight, initial_epoch, steps_per_epoch, validation_steps, max_queue_size, workers, use_multiprocessing, **kwargs)\u001b[0m\n\u001b[1;32m    878\u001b[0m           \u001b[0minitial_epoch\u001b[0m\u001b[0;34m=\u001b[0m\u001b[0minitial_epoch\u001b[0m\u001b[0;34m,\u001b[0m\u001b[0;34m\u001b[0m\u001b[0;34m\u001b[0m\u001b[0m\n\u001b[1;32m    879\u001b[0m           \u001b[0msteps_per_epoch\u001b[0m\u001b[0;34m=\u001b[0m\u001b[0msteps_per_epoch\u001b[0m\u001b[0;34m,\u001b[0m\u001b[0;34m\u001b[0m\u001b[0;34m\u001b[0m\u001b[0m\n\u001b[0;32m--> 880\u001b[0;31m           validation_steps=validation_steps)\n\u001b[0m\u001b[1;32m    881\u001b[0m \u001b[0;34m\u001b[0m\u001b[0m\n\u001b[1;32m    882\u001b[0m   def evaluate(self,\n",
      "\u001b[0;32m~/miniconda3/lib/python3.7/site-packages/tensorflow/python/keras/engine/training_arrays.py\u001b[0m in \u001b[0;36mmodel_iteration\u001b[0;34m(model, inputs, targets, sample_weights, batch_size, epochs, verbose, callbacks, val_inputs, val_targets, val_sample_weights, shuffle, initial_epoch, steps_per_epoch, validation_steps, mode, validation_in_fit, **kwargs)\u001b[0m\n\u001b[1;32m    327\u001b[0m \u001b[0;34m\u001b[0m\u001b[0m\n\u001b[1;32m    328\u001b[0m         \u001b[0;31m# Get outputs.\u001b[0m\u001b[0;34m\u001b[0m\u001b[0;34m\u001b[0m\u001b[0;34m\u001b[0m\u001b[0m\n\u001b[0;32m--> 329\u001b[0;31m         \u001b[0mbatch_outs\u001b[0m \u001b[0;34m=\u001b[0m \u001b[0mf\u001b[0m\u001b[0;34m(\u001b[0m\u001b[0mins_batch\u001b[0m\u001b[0;34m)\u001b[0m\u001b[0;34m\u001b[0m\u001b[0;34m\u001b[0m\u001b[0m\n\u001b[0m\u001b[1;32m    330\u001b[0m         \u001b[0;32mif\u001b[0m \u001b[0;32mnot\u001b[0m \u001b[0misinstance\u001b[0m\u001b[0;34m(\u001b[0m\u001b[0mbatch_outs\u001b[0m\u001b[0;34m,\u001b[0m \u001b[0mlist\u001b[0m\u001b[0;34m)\u001b[0m\u001b[0;34m:\u001b[0m\u001b[0;34m\u001b[0m\u001b[0;34m\u001b[0m\u001b[0m\n\u001b[1;32m    331\u001b[0m           \u001b[0mbatch_outs\u001b[0m \u001b[0;34m=\u001b[0m \u001b[0;34m[\u001b[0m\u001b[0mbatch_outs\u001b[0m\u001b[0;34m]\u001b[0m\u001b[0;34m\u001b[0m\u001b[0;34m\u001b[0m\u001b[0m\n",
      "\u001b[0;32m~/miniconda3/lib/python3.7/site-packages/tensorflow/python/keras/backend.py\u001b[0m in \u001b[0;36m__call__\u001b[0;34m(self, inputs)\u001b[0m\n\u001b[1;32m   3074\u001b[0m \u001b[0;34m\u001b[0m\u001b[0m\n\u001b[1;32m   3075\u001b[0m     fetched = self._callable_fn(*array_vals,\n\u001b[0;32m-> 3076\u001b[0;31m                                 run_metadata=self.run_metadata)\n\u001b[0m\u001b[1;32m   3077\u001b[0m     \u001b[0mself\u001b[0m\u001b[0;34m.\u001b[0m\u001b[0m_call_fetch_callbacks\u001b[0m\u001b[0;34m(\u001b[0m\u001b[0mfetched\u001b[0m\u001b[0;34m[\u001b[0m\u001b[0;34m-\u001b[0m\u001b[0mlen\u001b[0m\u001b[0;34m(\u001b[0m\u001b[0mself\u001b[0m\u001b[0;34m.\u001b[0m\u001b[0m_fetches\u001b[0m\u001b[0;34m)\u001b[0m\u001b[0;34m:\u001b[0m\u001b[0;34m]\u001b[0m\u001b[0;34m)\u001b[0m\u001b[0;34m\u001b[0m\u001b[0;34m\u001b[0m\u001b[0m\n\u001b[1;32m   3078\u001b[0m     return nest.pack_sequence_as(self._outputs_structure,\n",
      "\u001b[0;32m~/miniconda3/lib/python3.7/site-packages/tensorflow/python/client/session.py\u001b[0m in \u001b[0;36m__call__\u001b[0;34m(self, *args, **kwargs)\u001b[0m\n\u001b[1;32m   1437\u001b[0m           ret = tf_session.TF_SessionRunCallable(\n\u001b[1;32m   1438\u001b[0m               \u001b[0mself\u001b[0m\u001b[0;34m.\u001b[0m\u001b[0m_session\u001b[0m\u001b[0;34m.\u001b[0m\u001b[0m_session\u001b[0m\u001b[0;34m,\u001b[0m \u001b[0mself\u001b[0m\u001b[0;34m.\u001b[0m\u001b[0m_handle\u001b[0m\u001b[0;34m,\u001b[0m \u001b[0margs\u001b[0m\u001b[0;34m,\u001b[0m \u001b[0mstatus\u001b[0m\u001b[0;34m,\u001b[0m\u001b[0;34m\u001b[0m\u001b[0;34m\u001b[0m\u001b[0m\n\u001b[0;32m-> 1439\u001b[0;31m               run_metadata_ptr)\n\u001b[0m\u001b[1;32m   1440\u001b[0m         \u001b[0;32mif\u001b[0m \u001b[0mrun_metadata\u001b[0m\u001b[0;34m:\u001b[0m\u001b[0;34m\u001b[0m\u001b[0;34m\u001b[0m\u001b[0m\n\u001b[1;32m   1441\u001b[0m           \u001b[0mproto_data\u001b[0m \u001b[0;34m=\u001b[0m \u001b[0mtf_session\u001b[0m\u001b[0;34m.\u001b[0m\u001b[0mTF_GetBuffer\u001b[0m\u001b[0;34m(\u001b[0m\u001b[0mrun_metadata_ptr\u001b[0m\u001b[0;34m)\u001b[0m\u001b[0;34m\u001b[0m\u001b[0;34m\u001b[0m\u001b[0m\n",
      "\u001b[0;31mKeyboardInterrupt\u001b[0m: "
     ]
    }
   ],
   "source": [
    "model_fc = tf.keras.models.Sequential()\n",
    "model_fc.add(LSTM(64, return_sequences=True, input_shape=(seq_length, 8)))\n",
    "model_fc.add(Dropout(0.2))\n",
    "model_fc.add(LSTM(64))\n",
    "model_fc.add(BatchNormalization())\n",
    "model_fc.add(Dense(100, input_dim=64))\n",
    "model_fc.add(Activation('relu'))\n",
    "model_fc.add(BatchNormalization())\n",
    "model_fc.add(Dropout(0.2))\n",
    "model_fc.add(Dense(64, input_dim=64))\n",
    "model_fc.add(Activation('relu'))\n",
    "model_fc.add(Dropout(0.2))\n",
    "model_fc.add(Dense(63, input_dim=64))\n",
    "\n",
    "model_fc.compile(optimizer='Adam', loss='mse')\n",
    "\n",
    "history = model_fc.fit(features, labels, batch_size=seq_length, epochs=5, verbose=1, validation_split=0.2)"
   ]
  },
  {
   "cell_type": "code",
   "execution_count": 28,
   "metadata": {},
   "outputs": [],
   "source": [
    "model_fc.save('FC_model_jose_finger_4.h5')"
   ]
  },
  {
   "cell_type": "markdown",
   "metadata": {},
   "source": [
    "### Visual Model Error"
   ]
  },
  {
   "cell_type": "code",
   "execution_count": 26,
   "metadata": {},
   "outputs": [],
   "source": [
    "preds = model_fc.predict(features)"
   ]
  },
  {
   "cell_type": "code",
   "execution_count": 27,
   "metadata": {},
   "outputs": [
    {
     "data": {
      "image/png": "[encoded data removed]",
      "text/plain": [
       "<Figure size 1080x720 with 1 Axes>"
      ]
     },
     "metadata": {
      "needs_background": "light"
     },
     "output_type": "display_data"
    }
   ],
   "source": [
    "error = labels - preds\n",
    "sq_error = error * error\n",
    "avg_error = np.mean(sq_error, axis=0)\n",
    "plt.figure(figsize=(15, 10))\n",
    "plt.xticks(rotation=90)\n",
    "plt.ylabel('Prediction Error (mm)')\n",
    "bar = plt.bar(df.columns[8:], avg_error)\n",
    "for i in range(0,63,3):\n",
    "    bar[i].set_color('coral')\n",
    "    bar[i+1].set_color('olivedrab')\n",
    "plt.show()"
   ]
  },
  {
   "cell_type": "markdown",
   "metadata": {},
   "source": [
    "## Training the Model On Tips Only\n",
    "In an attempt to improve the accuracy of prediction of the fingertips the above models are modified and trained only using the fingertip position data to understand if this simplification yields an improvement. This is done on both of the architectures tested above."
   ]
  },
  {
   "cell_type": "markdown",
   "metadata": {},
   "source": [
    "### Autoencoder Architecture"
   ]
  },
  {
   "cell_type": "code",
   "execution_count": 29,
   "metadata": {},
   "outputs": [],
   "source": [
    "encoding_dim = 9 #dimensionality of 'feature' vector\n",
    "\n",
    "a_fn = None\n",
    "\n",
    "# Full autoencoder\n",
    "input_vec = Input(shape=(18,))\n",
    "dense_0 = Dense(32, activation=a_fn)(input_vec)\n",
    "dense_1 = Dense(16, activation=a_fn)(dense_0)\n",
    "encoded = Dense(encoding_dim, activation=a_fn)(dense_1)\n",
    "dense_2 = Dense(32, activation=a_fn, name='decoder_0')(encoded)\n",
    "dense_3 = Dense(16, activation=a_fn, name='decoder_1')(dense_2)\n",
    "decoded = Dense(18, activation=a_fn, name='decoder_output')(dense_3)\n",
    "\n",
    "autoencoder = Model(input_vec, decoded)\n",
    "\n",
    "# Encoder from autoencoder\n",
    "encoder = Model(input_vec, encoded)\n",
    "\n",
    "# Decoder from autoencoder layers\n",
    "decoder_input = Input(shape=(encoding_dim,), name='encoded_input')\n",
    "decode_0 = autoencoder.layers[-3](decoder_input)\n",
    "decode_1 = autoencoder.layers[-2](decode_0)\n",
    "decode_output = autoencoder.layers[-1](decode_1)\n",
    "decoder = Model(decoder_input, decode_output, name='decoder')\n",
    "\n",
    "# Train Autoencoder\n",
    "optimizer = tf.keras.optimizers.Adam(lr=0.001, beta_1=0.9, beta_2=0.999, epsilon=None, decay=0.0, amsgrad=False)\n",
    "autoencoder.compile(optimizer=optimizer, loss='mean_squared_error')"
   ]
  },
  {
   "cell_type": "code",
   "execution_count": 30,
   "metadata": {},
   "outputs": [
    {
     "data": {
      "text/plain": [
       "(16481, 18)"
      ]
     },
     "execution_count": 30,
     "metadata": {},
     "output_type": "execute_result"
    }
   ],
   "source": [
    "label_ar_t = label_ar[:,[0,1,2,12,13,14,24,25,26,36,37,38,48,49,50,60,61,62]]\n",
    "label_ar_t.shape"
   ]
  },
  {
   "cell_type": "code",
   "execution_count": 31,
   "metadata": {},
   "outputs": [
    {
     "name": "stdout",
     "output_type": "stream",
     "text": [
      "Train on 13184 samples, validate on 3297 samples\n",
      "Epoch 1/30\n",
      "13184/13184 [==============================] - 2s 125us/sample - loss: 1804.8644 - val_loss: 844.6304\n",
      "Epoch 2/30\n",
      "13184/13184 [==============================] - 0s 6us/sample - loss: 363.1596 - val_loss: 143.7439\n",
      "Epoch 3/30\n",
      "13184/13184 [==============================] - 0s 6us/sample - loss: 108.8713 - val_loss: 135.5584\n",
      "Epoch 4/30\n",
      "13184/13184 [==============================] - 0s 6us/sample - loss: 84.1743 - val_loss: 121.3580\n",
      "Epoch 5/30\n",
      "13184/13184 [==============================] - 0s 6us/sample - loss: 70.7524 - val_loss: 107.9477\n",
      "Epoch 6/30\n",
      "13184/13184 [==============================] - 0s 7us/sample - loss: 59.9721 - val_loss: 100.2388\n",
      "Epoch 7/30\n",
      "13184/13184 [==============================] - 0s 6us/sample - loss: 51.1394 - val_loss: 91.6366\n",
      "Epoch 8/30\n",
      "13184/13184 [==============================] - 0s 6us/sample - loss: 44.0869 - val_loss: 85.8753\n",
      "Epoch 9/30\n",
      "13184/13184 [==============================] - 0s 6us/sample - loss: 38.6877 - val_loss: 78.2946\n",
      "Epoch 10/30\n",
      "13184/13184 [==============================] - 0s 6us/sample - loss: 34.5467 - val_loss: 72.4935\n",
      "Epoch 11/30\n",
      "13184/13184 [==============================] - 0s 6us/sample - loss: 31.3283 - val_loss: 68.1716\n",
      "Epoch 12/30\n",
      "13184/13184 [==============================] - 0s 7us/sample - loss: 28.8070 - val_loss: 62.5642\n",
      "Epoch 13/30\n",
      "13184/13184 [==============================] - 0s 6us/sample - loss: 26.7931 - val_loss: 59.0995\n",
      "Epoch 14/30\n",
      "13184/13184 [==============================] - 0s 7us/sample - loss: 25.1587 - val_loss: 57.0017\n",
      "Epoch 15/30\n",
      "13184/13184 [==============================] - 0s 7us/sample - loss: 23.7901 - val_loss: 54.6618\n",
      "Epoch 16/30\n",
      "13184/13184 [==============================] - 0s 7us/sample - loss: 22.5898 - val_loss: 52.8294\n",
      "Epoch 17/30\n",
      "13184/13184 [==============================] - 0s 7us/sample - loss: 21.5261 - val_loss: 50.7334\n",
      "Epoch 18/30\n",
      "13184/13184 [==============================] - 0s 7us/sample - loss: 20.5708 - val_loss: 49.1961\n",
      "Epoch 19/30\n",
      "13184/13184 [==============================] - 0s 7us/sample - loss: 19.6828 - val_loss: 47.7905\n",
      "Epoch 20/30\n",
      "13184/13184 [==============================] - 0s 8us/sample - loss: 18.8381 - val_loss: 46.5224\n",
      "Epoch 21/30\n",
      "13184/13184 [==============================] - ETA: 0s - loss: 18.16 - 0s 7us/sample - loss: 18.0371 - val_loss: 46.3079\n",
      "Epoch 22/30\n",
      "13184/13184 [==============================] - 0s 6us/sample - loss: 17.2669 - val_loss: 44.2411\n",
      "Epoch 23/30\n",
      "13184/13184 [==============================] - 0s 8us/sample - loss: 16.5206 - val_loss: 43.1075\n",
      "Epoch 24/30\n",
      "13184/13184 [==============================] - 0s 8us/sample - loss: 15.7940 - val_loss: 42.0993\n",
      "Epoch 25/30\n",
      "13184/13184 [==============================] - 0s 7us/sample - loss: 15.0827 - val_loss: 41.1903\n",
      "Epoch 26/30\n",
      "13184/13184 [==============================] - 0s 7us/sample - loss: 14.4066 - val_loss: 39.9729\n",
      "Epoch 27/30\n",
      "13184/13184 [==============================] - 0s 7us/sample - loss: 13.7648 - val_loss: 37.9617\n",
      "Epoch 28/30\n",
      "13184/13184 [==============================] - 0s 7us/sample - loss: 13.1585 - val_loss: 37.1820\n",
      "Epoch 29/30\n",
      "13184/13184 [==============================] - 0s 7us/sample - loss: 12.5901 - val_loss: 36.5573\n",
      "Epoch 30/30\n",
      "13184/13184 [==============================] - 0s 9us/sample - loss: 12.0513 - val_loss: 35.0339\n"
     ]
    }
   ],
   "source": [
    "ret = autoencoder.fit(label_ar_t, label_ar_t, batch_size=512, epochs=30, verbose=1, validation_split=0.2)"
   ]
  },
  {
   "cell_type": "markdown",
   "metadata": {},
   "source": [
    "Create a smaller labels vector with only the tip and wrist x,y,z:"
   ]
  },
  {
   "cell_type": "code",
   "execution_count": 31,
   "metadata": {},
   "outputs": [
    {
     "data": {
      "text/plain": [
       "(89004, 18)"
      ]
     },
     "execution_count": 31,
     "metadata": {},
     "output_type": "execute_result"
    }
   ],
   "source": [
    "labels_tip = labels[:,[0,1,2,12,13,14,24,25,26,36,37,38,48,49,50,60,61,62]]\n",
    "labels_tip.shape"
   ]
  },
  {
   "cell_type": "code",
   "execution_count": 32,
   "metadata": {},
   "outputs": [
    {
     "name": "stdout",
     "output_type": "stream",
     "text": [
      "Model: \"model_v1\"\n",
      "_________________________________________________________________\n",
      "Layer (type)                 Output Shape              Param #   \n",
      "=================================================================\n",
      "inputs (InputLayer)          [(None, None, 8)]         0         \n",
      "_________________________________________________________________\n",
      "lstm_0 (LSTM)                (None, None, 64)          18688     \n",
      "_________________________________________________________________\n",
      "dropout_4 (Dropout)          (None, None, 64)          0         \n",
      "_________________________________________________________________\n",
      "lstm_1 (LSTM)                (None, 64)                33024     \n",
      "_________________________________________________________________\n",
      "lstm_out (Dense)             (None, 9)                 585       \n",
      "_________________________________________________________________\n",
      "decoder_0 (Dense)            (None, 32)                320       \n",
      "_________________________________________________________________\n",
      "decoder_1 (Dense)            (None, 16)                528       \n",
      "_________________________________________________________________\n",
      "decoder_output (Dense)       (None, 18)                306       \n",
      "=================================================================\n",
      "Total params: 53,451\n",
      "Trainable params: 53,451\n",
      "Non-trainable params: 0\n",
      "_________________________________________________________________\n"
     ]
    }
   ],
   "source": [
    "#lstm layers\n",
    "inputs = Input(shape=(None, 8), name=\"inputs\")\n",
    "lstm_0 = LSTM(64, return_sequences=True, name=\"lstm_0\")(inputs)\n",
    "do = Dropout(0.2)(lstm_0)\n",
    "lstm_1 = LSTM(64, return_sequences=False, name=\"lstm_1\")(do)\n",
    "lstm_out = Dense(9, activation=None, name=\"lstm_out\")(lstm_1)\n",
    "\n",
    "#decoder layers\n",
    "decoder_0 = decoder.get_layer(\"decoder_0\")(lstm_out)\n",
    "decoder_0.trainable = False\n",
    "decoder_1 = decoder.get_layer(\"decoder_1\")(decoder_0)\n",
    "decoder_1.trainable = False\n",
    "decoder_output = decoder.get_layer(\"decoder_output\")(decoder_1)\n",
    "decoder_output.trainable = False\n",
    "\n",
    "model = Model(inputs, decoder_output, name=\"model_v1\")\n",
    "optimizer = tf.keras.optimizers.Adam(lr=0.001, beta_1=0.9, beta_2=0.999, epsilon=None, decay=0.00, amsgrad=False)\n",
    "model.compile(optimizer=optimizer, loss='mse')\n",
    "model.summary()"
   ]
  },
  {
   "cell_type": "code",
   "execution_count": 33,
   "metadata": {},
   "outputs": [
    {
     "name": "stdout",
     "output_type": "stream",
     "text": [
      "Train on 71203 samples, validate on 17801 samples\n",
      "Epoch 1/4\n",
      "71203/71203 [==============================] - 88s 1ms/sample - loss: 371.7387 - val_loss: 296.5638\n",
      "Epoch 2/4\n",
      "71203/71203 [==============================] - 81s 1ms/sample - loss: 258.2415 - val_loss: 275.9274\n",
      "Epoch 3/4\n",
      "71203/71203 [==============================] - 77s 1ms/sample - loss: 218.4306 - val_loss: 257.8691\n",
      "Epoch 4/4\n",
      "71203/71203 [==============================] - 82s 1ms/sample - loss: 194.0974 - val_loss: 247.3258\n"
     ]
    }
   ],
   "source": [
    "history = model.fit(features, labels_tip, batch_size=seq_length, epochs=4, verbose=1, validation_split=0.2)"
   ]
  },
  {
   "cell_type": "markdown",
   "metadata": {},
   "source": [
    "### Visual Model Error\n",
    "Model error for the reduced Autoencoder architecture:"
   ]
  },
  {
   "cell_type": "code",
   "execution_count": 34,
   "metadata": {},
   "outputs": [],
   "source": [
    "preds = model.predict(features)"
   ]
  },
  {
   "cell_type": "code",
   "execution_count": 35,
   "metadata": {},
   "outputs": [
    {
     "data": {
      "image/png": "[encoded data removed]",
      "text/plain": [
       "<Figure size 1080x720 with 1 Axes>"
      ]
     },
     "metadata": {
      "needs_background": "light"
     },
     "output_type": "display_data"
    }
   ],
   "source": [
    "error = labels_tip - preds\n",
    "sq_error = error * error\n",
    "avg_error = np.mean(sq_error, axis=0)\n",
    "plt.figure(figsize=(15, 10))\n",
    "plt.xticks(rotation=90)\n",
    "plt.ylabel('Prediction Error (mm)')\n",
    "bar = plt.bar(df.columns[8:][[0,1,2,12,13,14,24,25,26,36,37,38,48,49,50,60,61,62]], avg_error)\n",
    "for i in range(0,18,3):\n",
    "    bar[i].set_color('coral')\n",
    "    bar[i+1].set_color('olivedrab')\n",
    "plt.show()"
   ]
  },
  {
   "cell_type": "markdown",
   "metadata": {},
   "source": [
    "### Tips only with FC Architecture"
   ]
  },
  {
   "cell_type": "code",
   "execution_count": 68,
   "metadata": {},
   "outputs": [
    {
     "name": "stdout",
     "output_type": "stream",
     "text": [
      "_________________________________________________________________\n",
      "Layer (type)                 Output Shape              Param #   \n",
      "=================================================================\n",
      "lstm (LSTM)                  (None, 24, 64)            18688     \n",
      "_________________________________________________________________\n",
      "dropout_2 (Dropout)          (None, 24, 64)            0         \n",
      "_________________________________________________________________\n",
      "lstm_1 (LSTM)                (None, 64)                33024     \n",
      "_________________________________________________________________\n",
      "batch_normalization_v1_8 (Ba (None, 64)                256       \n",
      "_________________________________________________________________\n",
      "dense_4 (Dense)              (None, 100)               6500      \n",
      "_________________________________________________________________\n",
      "activation (Activation)      (None, 100)               0         \n",
      "_________________________________________________________________\n",
      "batch_normalization_v1_9 (Ba (None, 100)               400       \n",
      "_________________________________________________________________\n",
      "dropout_3 (Dropout)          (None, 100)               0         \n",
      "_________________________________________________________________\n",
      "dense_5 (Dense)              (None, 64)                6464      \n",
      "_________________________________________________________________\n",
      "activation_1 (Activation)    (None, 64)                0         \n",
      "_________________________________________________________________\n",
      "dropout_4 (Dropout)          (None, 64)                0         \n",
      "_________________________________________________________________\n",
      "dense_6 (Dense)              (None, 18)                1170      \n",
      "=================================================================\n",
      "Total params: 66,502\n",
      "Trainable params: 66,174\n",
      "Non-trainable params: 328\n",
      "_________________________________________________________________\n"
     ]
    },
    {
     "ename": "NameError",
     "evalue": "name 'labels_tip' is not defined",
     "output_type": "error",
     "traceback": [
      "\u001b[0;31m---------------------------------------------------------------------------\u001b[0m",
      "\u001b[0;31mNameError\u001b[0m                                 Traceback (most recent call last)",
      "\u001b[0;32m<ipython-input-68-6944a26e5f42>\u001b[0m in \u001b[0;36m<module>\u001b[0;34m\u001b[0m\n\u001b[1;32m     16\u001b[0m \u001b[0mmodel_fc\u001b[0m\u001b[0;34m.\u001b[0m\u001b[0mcompile\u001b[0m\u001b[0;34m(\u001b[0m\u001b[0moptimizer\u001b[0m\u001b[0;34m=\u001b[0m\u001b[0;34m'Adam'\u001b[0m\u001b[0;34m,\u001b[0m \u001b[0mloss\u001b[0m\u001b[0;34m=\u001b[0m\u001b[0;34m'mse'\u001b[0m\u001b[0;34m)\u001b[0m\u001b[0;34m\u001b[0m\u001b[0;34m\u001b[0m\u001b[0m\n\u001b[1;32m     17\u001b[0m \u001b[0;34m\u001b[0m\u001b[0m\n\u001b[0;32m---> 18\u001b[0;31m \u001b[0mhistory\u001b[0m \u001b[0;34m=\u001b[0m \u001b[0mmodel_fc\u001b[0m\u001b[0;34m.\u001b[0m\u001b[0mfit\u001b[0m\u001b[0;34m(\u001b[0m\u001b[0mfeatures\u001b[0m\u001b[0;34m,\u001b[0m \u001b[0mlabels_tip\u001b[0m\u001b[0;34m,\u001b[0m \u001b[0mbatch_size\u001b[0m\u001b[0;34m=\u001b[0m\u001b[0mseq_length\u001b[0m\u001b[0;34m,\u001b[0m \u001b[0mepochs\u001b[0m\u001b[0;34m=\u001b[0m\u001b[0;36m9\u001b[0m\u001b[0;34m,\u001b[0m \u001b[0mverbose\u001b[0m\u001b[0;34m=\u001b[0m\u001b[0;36m1\u001b[0m\u001b[0;34m,\u001b[0m \u001b[0mvalidation_split\u001b[0m\u001b[0;34m=\u001b[0m\u001b[0;36m0.2\u001b[0m\u001b[0;34m)\u001b[0m\u001b[0;34m\u001b[0m\u001b[0;34m\u001b[0m\u001b[0m\n\u001b[0m",
      "\u001b[0;31mNameError\u001b[0m: name 'labels_tip' is not defined"
     ]
    }
   ],
   "source": [
    "model_fc = tf.keras.models.Sequential()\n",
    "model_fc.add(LSTM(64, return_sequences=True, input_shape=(seq_length, 8)))\n",
    "model_fc.add(Dropout(0.2))\n",
    "model_fc.add(LSTM(64))\n",
    "model_fc.add(BatchNormalization())\n",
    "model_fc.add(Dense(100, input_dim=64))\n",
    "model_fc.add(Activation('relu'))\n",
    "model_fc.add(BatchNormalization())\n",
    "model_fc.add(Dropout(0.2))\n",
    "model_fc.add(Dense(64, input_dim=64))\n",
    "model_fc.add(Activation('relu'))\n",
    "model_fc.add(Dropout(0.2))\n",
    "model_fc.add(Dense(18, input_dim=64))\n",
    "\n",
    "model_fc.summary()\n",
    "model_fc.compile(optimizer='Adam', loss='mse')\n",
    "\n",
    "history = model_fc.fit(features, labels_tip, batch_size=seq_length, epochs=9, verbose=1, validation_split=0.2)"
   ]
  },
  {
   "cell_type": "markdown",
   "metadata": {},
   "source": [
    "### Visual Model Error\n",
    "A similar visualizion is now done on this new more restricted model. These errors show 20% - 25% improvement on fingertip y position."
   ]
  },
  {
   "cell_type": "code",
   "execution_count": 37,
   "metadata": {},
   "outputs": [],
   "source": [
    "preds = model_fc.predict(features)"
   ]
  },
  {
   "cell_type": "code",
   "execution_count": 38,
   "metadata": {},
   "outputs": [
    {
     "data": {
      "image/png": "[encoded data removed]",
      "text/plain": [
       "<Figure size 1080x720 with 1 Axes>"
      ]
     },
     "metadata": {
      "needs_background": "light"
     },
     "output_type": "display_data"
    }
   ],
   "source": [
    "error = labels_tip - preds\n",
    "sq_error = error * error\n",
    "avg_error = np.mean(sq_error, axis=0)\n",
    "plt.figure(figsize=(15, 10))\n",
    "plt.xticks(rotation=90)\n",
    "plt.ylabel('Prediction Error (mm)')\n",
    "bar = plt.bar(df.columns[8:][[0,1,2,12,13,14,24,25,26,36,37,38,48,49,50,60,61,62]], avg_error)\n",
    "for i in range(0,18,3):\n",
    "    bar[i].set_color('coral')\n",
    "    bar[i+1].set_color('olivedrab')\n",
    "plt.show()"
   ]
  }
 ],
 "metadata": {
  "kernelspec": {
   "display_name": "Python 3",
   "language": "python",
   "name": "python3"
  },
  "language_info": {
   "codemirror_mode": {
    "name": "ipython",
    "version": 3
   },
   "file_extension": ".py",
   "mimetype": "text/x-python",
   "name": "python",
   "nbconvert_exporter": "python",
   "pygments_lexer": "ipython3",
   "version": "3.7.3"
  }
 },
 "nbformat": 4,
 "nbformat_minor": 2
}
