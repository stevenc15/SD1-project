{
 "cells": [
  {
   "cell_type": "code",
   "execution_count": 1,
   "metadata": {},
   "outputs": [
    {
     "name": "stdout",
     "output_type": "stream",
     "text": [
      "Model loaded successfully.\n",
      "Input size: 10\n",
      "Layers: [7, 5, 2]\n"
     ]
    }
   ],
   "source": [
    "#Run this file to test whether the model has been accessed properly (do so within the docker container)\n",
    "import pickle\n",
    "from DBN import DBN\n",
    "\n",
    "# Load the untrained model\n",
    "with open(\"untrained_model.pkl\", 'rb') as f:\n",
    "    untrained_dbn = pickle.load(f)\n",
    "    \n",
    "if isinstance(untrained_dbn, DBN):\n",
    "    print(\"Model loaded successfully.\")\n",
    "else:\n",
    "    print(\"Error: Loaded object is not an instance of the DBN class.\")\n",
    "\n",
    "# You can also inspect the attributes of the loaded model\n",
    "print(\"Input size:\", untrained_dbn.input_size)\n",
    "print(\"Layers:\", untrained_dbn.layers)\n",
    "# Print other attributes as needed"
   ]
  }
 ],
 "metadata": {
  "kernelspec": {
   "display_name": "venv",
   "language": "python",
   "name": "python3"
  },
  "language_info": {
   "codemirror_mode": {
    "name": "ipython",
    "version": 3
   },
   "file_extension": ".py",
   "mimetype": "text/x-python",
   "name": "python",
   "nbconvert_exporter": "python",
   "pygments_lexer": "ipython3",
   "version": "3.12.2"
  }
 },
 "nbformat": 4,
 "nbformat_minor": 2
}
