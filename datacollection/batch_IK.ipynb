{
 "cells": [
  {
   "cell_type": "code",
   "execution_count": 1,
   "metadata": {},
   "outputs": [
    {
     "name": "stdout",
     "output_type": "stream",
     "text": [
      "Requirement already satisfied: tqdm in c:\\users\\saile\\anaconda3\\envs\\opensim_scripting\\lib\\site-packages (4.66.4)\n",
      "Requirement already satisfied: colorama in c:\\users\\saile\\anaconda3\\envs\\opensim_scripting\\lib\\site-packages (from tqdm) (0.4.6)\n"
     ]
    }
   ],
   "source": [
    "#this notebook is for running batch jobs on opensim\n",
    "!pip install tqdm\n",
    "import opensim as osim\n",
    "import os\n",
    "from tqdm import tqdm\n",
    "import logging"
   ]
  },
  {
   "cell_type": "code",
   "execution_count": 2,
   "metadata": {},
   "outputs": [
    {
     "name": "stdout",
     "output_type": "stream",
     "text": [
      "b:\\SharedFolder\\School\\Ucf\\SpringSem2024\\SeniorDesign\\SD1-project\\datacollection\n"
     ]
    }
   ],
   "source": [
    "import os\n",
    "\n",
    "#print current working directory\n",
    "print(os.getcwd())\n",
    "\n",
    "# Function to perform inverse kinematics on a single TRC file\n",
    "def run_inverse_kinematics(scaled_model_file, trc_file, ik_setup_file, output_dir):\n",
    "    try:\n",
    "        # Check if files exist before processing\n",
    "        if not os.path.exists(scaled_model_file):\n",
    "            raise FileNotFoundError(f\"Scaled model file not found: {scaled_model_file}\")\n",
    "        if not os.path.exists(trc_file):\n",
    "            raise FileNotFoundError(f\"TRC file not found: {trc_file}\")\n",
    "        if not os.path.exists(ik_setup_file):\n",
    "            raise FileNotFoundError(f\"IK setup file not found: {ik_setup_file}\")\n",
    "\n",
    "        output_file = os.path.join(output_dir, os.path.basename(trc_file).replace('.trc', '.mot'))\n",
    "        \n",
    "        print(f\"Output file: {output_file}\")\n",
    "        # Skip processing if the output file already exists\n",
    "        if os.path.exists(output_file):\n",
    "            logging.info(f\"Output file already exists, skipping: {output_file}\")\n",
    "            print(f\"Output file already exists, skipping: {output_file}\")\n",
    "            return\n",
    "\n",
    "        model = osim.Model(scaled_model_file)\n",
    "        ik_tool = osim.InverseKinematicsTool(ik_setup_file)\n",
    "        ik_tool.setModel(model)\n",
    "        ik_tool.setMarkerDataFileName(trc_file)\n",
    "        ik_tool.setOutputMotionFileName(output_file)\n",
    "\n",
    "        # Additional logging for debug purposes\n",
    "        logging.debug(f\"Running IK Tool with model: {scaled_model_file}, TRC: {trc_file}, Setup: {ik_setup_file}, Output: {output_file}\")\n",
    "        \n",
    "        ik_tool.run()\n",
    "    except Exception as e:\n",
    "        logging.error(f\"Error processing {trc_file}: {e}\")\n",
    "        print(f\"Error processing {trc_file}: {e}\")\n",
    "\n",
    "# Wrapper function to process all subjects\n",
    "def process_all_subjects(base_dir, subjects, ik_setup_file):\n",
    "    for subject in subjects:\n",
    "        scaled_model_file = os.path.join(base_dir, 'opensim','models', f'subject_{subject}.osim')\n",
    "        trc_files_dir = os.path.join(base_dir, 'vicon', f'subject_{subject}', 'motion')\n",
    "        output_dir = os.path.join(base_dir, 'vicon', f'subject_{subject}', 'processed')\n",
    "\n",
    "        if not os.path.exists(output_dir):\n",
    "            os.makedirs(output_dir)\n",
    "\n",
    "        trc_files = [f for f in os.listdir(trc_files_dir) if f.endswith('.trc')]\n",
    "\n",
    "        for trc_file in tqdm(trc_files, desc=f'Processing subject_{subject}'):\n",
    "            trc_file_path = os.path.join(trc_files_dir, trc_file)\n",
    "            logging.debug(f\"Processing file: {trc_file_path}\")  # Debug print\n",
    "            run_inverse_kinematics(scaled_model_file, trc_file_path, ik_setup_file, output_dir)\n",
    "\n"
   ]
  },
  {
   "cell_type": "code",
   "execution_count": 3,
   "metadata": {},
   "outputs": [
    {
     "name": "stderr",
     "output_type": "stream",
     "text": [
      "Processing subject_1:   0%|          | 0/16 [00:00<?, ?it/s]"
     ]
    },
    {
     "name": "stdout",
     "output_type": "stream",
     "text": [
      "Output file: b:\\SharedFolder\\School\\Ucf\\SpringSem2024\\SeniorDesign\\SD1-project\\datacollection\\vicon\\subject_1\\processed\\P001_T001_armSwing_fast.mot\n",
      "Output file already exists, skipping: b:\\SharedFolder\\School\\Ucf\\SpringSem2024\\SeniorDesign\\SD1-project\\datacollection\\vicon\\subject_1\\processed\\P001_T001_armSwing_fast.mot\n",
      "Output file: b:\\SharedFolder\\School\\Ucf\\SpringSem2024\\SeniorDesign\\SD1-project\\datacollection\\vicon\\subject_1\\processed\\P001_T001_armSwing_normal.mot\n",
      "Output file already exists, skipping: b:\\SharedFolder\\School\\Ucf\\SpringSem2024\\SeniorDesign\\SD1-project\\datacollection\\vicon\\subject_1\\processed\\P001_T001_armSwing_normal.mot\n",
      "Output file: b:\\SharedFolder\\School\\Ucf\\SpringSem2024\\SeniorDesign\\SD1-project\\datacollection\\vicon\\subject_1\\processed\\P001_T001_armSwing_slow.mot\n"
     ]
    },
    {
     "name": "stderr",
     "output_type": "stream",
     "text": [
      "Processing subject_1:  19%|█▉        | 3/16 [02:37<11:21, 52.46s/it]"
     ]
    },
    {
     "name": "stdout",
     "output_type": "stream",
     "text": [
      "Output file: b:\\SharedFolder\\School\\Ucf\\SpringSem2024\\SeniorDesign\\SD1-project\\datacollection\\vicon\\subject_1\\processed\\P001_T001_armSwing_veryfast.mot\n"
     ]
    },
    {
     "name": "stderr",
     "output_type": "stream",
     "text": [
      "Processing subject_1:  25%|██▌       | 4/16 [05:33<18:29, 92.48s/it]ERROR:root:Error processing b:\\SharedFolder\\School\\Ucf\\SpringSem2024\\SeniorDesign\\SD1-project\\datacollection\\vicon\\subject_1\\motion\\P001_T001_elbowflexion_slow.trc: std::exception in 'bool OpenSim::InverseKinematicsTool::run()': InverseKinematicsTool Failed, please see messages window for details...\n",
      "Processing subject_1: 100%|██████████| 16/16 [05:34<00:00, 20.88s/it]"
     ]
    },
    {
     "name": "stdout",
     "output_type": "stream",
     "text": [
      "Output file: b:\\SharedFolder\\School\\Ucf\\SpringSem2024\\SeniorDesign\\SD1-project\\datacollection\\vicon\\subject_1\\processed\\P001_T001_crossbody_fast.mot\n",
      "Output file already exists, skipping: b:\\SharedFolder\\School\\Ucf\\SpringSem2024\\SeniorDesign\\SD1-project\\datacollection\\vicon\\subject_1\\processed\\P001_T001_crossbody_fast.mot\n",
      "Output file: b:\\SharedFolder\\School\\Ucf\\SpringSem2024\\SeniorDesign\\SD1-project\\datacollection\\vicon\\subject_1\\processed\\P001_T001_crossbody_normal.mot\n",
      "Output file already exists, skipping: b:\\SharedFolder\\School\\Ucf\\SpringSem2024\\SeniorDesign\\SD1-project\\datacollection\\vicon\\subject_1\\processed\\P001_T001_crossbody_normal.mot\n",
      "Output file: b:\\SharedFolder\\School\\Ucf\\SpringSem2024\\SeniorDesign\\SD1-project\\datacollection\\vicon\\subject_1\\processed\\P001_T001_crossbody_slow.mot\n",
      "Output file already exists, skipping: b:\\SharedFolder\\School\\Ucf\\SpringSem2024\\SeniorDesign\\SD1-project\\datacollection\\vicon\\subject_1\\processed\\P001_T001_crossbody_slow.mot\n",
      "Output file: b:\\SharedFolder\\School\\Ucf\\SpringSem2024\\SeniorDesign\\SD1-project\\datacollection\\vicon\\subject_1\\processed\\P001_T001_elbowflexion_fast.mot\n",
      "Output file already exists, skipping: b:\\SharedFolder\\School\\Ucf\\SpringSem2024\\SeniorDesign\\SD1-project\\datacollection\\vicon\\subject_1\\processed\\P001_T001_elbowflexion_fast.mot\n",
      "Output file: b:\\SharedFolder\\School\\Ucf\\SpringSem2024\\SeniorDesign\\SD1-project\\datacollection\\vicon\\subject_1\\processed\\P001_T001_elbowflexion_normal.mot\n",
      "Output file already exists, skipping: b:\\SharedFolder\\School\\Ucf\\SpringSem2024\\SeniorDesign\\SD1-project\\datacollection\\vicon\\subject_1\\processed\\P001_T001_elbowflexion_normal.mot\n",
      "Output file: b:\\SharedFolder\\School\\Ucf\\SpringSem2024\\SeniorDesign\\SD1-project\\datacollection\\vicon\\subject_1\\processed\\P001_T001_elbowflexion_slow.mot\n",
      "Error processing b:\\SharedFolder\\School\\Ucf\\SpringSem2024\\SeniorDesign\\SD1-project\\datacollection\\vicon\\subject_1\\motion\\P001_T001_elbowflexion_slow.trc: std::exception in 'bool OpenSim::InverseKinematicsTool::run()': InverseKinematicsTool Failed, please see messages window for details...\n",
      "Output file: b:\\SharedFolder\\School\\Ucf\\SpringSem2024\\SeniorDesign\\SD1-project\\datacollection\\vicon\\subject_1\\processed\\P001_T001_elbowrotation_fast.mot\n",
      "Output file already exists, skipping: b:\\SharedFolder\\School\\Ucf\\SpringSem2024\\SeniorDesign\\SD1-project\\datacollection\\vicon\\subject_1\\processed\\P001_T001_elbowrotation_fast.mot\n",
      "Output file: b:\\SharedFolder\\School\\Ucf\\SpringSem2024\\SeniorDesign\\SD1-project\\datacollection\\vicon\\subject_1\\processed\\P001_T001_elbowrotation_normal.mot\n",
      "Output file already exists, skipping: b:\\SharedFolder\\School\\Ucf\\SpringSem2024\\SeniorDesign\\SD1-project\\datacollection\\vicon\\subject_1\\processed\\P001_T001_elbowrotation_normal.mot\n",
      "Output file: b:\\SharedFolder\\School\\Ucf\\SpringSem2024\\SeniorDesign\\SD1-project\\datacollection\\vicon\\subject_1\\processed\\P001_T001_elbowrotation_slow.mot\n",
      "Output file already exists, skipping: b:\\SharedFolder\\School\\Ucf\\SpringSem2024\\SeniorDesign\\SD1-project\\datacollection\\vicon\\subject_1\\processed\\P001_T001_elbowrotation_slow.mot\n",
      "Output file: b:\\SharedFolder\\School\\Ucf\\SpringSem2024\\SeniorDesign\\SD1-project\\datacollection\\vicon\\subject_1\\processed\\P001_T001_overheadreach_45.mot\n",
      "Output file already exists, skipping: b:\\SharedFolder\\School\\Ucf\\SpringSem2024\\SeniorDesign\\SD1-project\\datacollection\\vicon\\subject_1\\processed\\P001_T001_overheadreach_45.mot\n",
      "Output file: b:\\SharedFolder\\School\\Ucf\\SpringSem2024\\SeniorDesign\\SD1-project\\datacollection\\vicon\\subject_1\\processed\\P001_T001_overheadreach_90.mot\n",
      "Output file already exists, skipping: b:\\SharedFolder\\School\\Ucf\\SpringSem2024\\SeniorDesign\\SD1-project\\datacollection\\vicon\\subject_1\\processed\\P001_T001_overheadreach_90.mot\n",
      "Output file: b:\\SharedFolder\\School\\Ucf\\SpringSem2024\\SeniorDesign\\SD1-project\\datacollection\\vicon\\subject_1\\processed\\P001_T001_overheadreach_max.mot\n",
      "Output file already exists, skipping: b:\\SharedFolder\\School\\Ucf\\SpringSem2024\\SeniorDesign\\SD1-project\\datacollection\\vicon\\subject_1\\processed\\P001_T001_overheadreach_max.mot\n"
     ]
    },
    {
     "name": "stderr",
     "output_type": "stream",
     "text": [
      "\n"
     ]
    }
   ],
   "source": [
    "\n",
    "base_dir = 'b:\\\\SharedFolder\\\\School\\\\Ucf\\\\SpringSem2024\\\\SeniorDesign\\\\SD1-project\\\\datacollection'\n",
    "\n",
    "subjects = [2]  # List of subjects to process\n",
    "ik_setup_file = 'opensim/ik_weights.xml'\n",
    "\n",
    "process_all_subjects(base_dir, subjects, ik_setup_file)"
   ]
  },
  {
   "cell_type": "code",
   "execution_count": null,
   "metadata": {},
   "outputs": [],
   "source": []
  }
 ],
 "metadata": {
  "kernelspec": {
   "display_name": "Python 3",
   "language": "python",
   "name": "python3"
  },
  "language_info": {
   "codemirror_mode": {
    "name": "ipython",
    "version": 3
   },
   "file_extension": ".py",
   "mimetype": "text/x-python",
   "name": "python",
   "nbconvert_exporter": "python",
   "pygments_lexer": "ipython3",
   "version": "3.8.19"
  }
 },
 "nbformat": 4,
 "nbformat_minor": 2
}
