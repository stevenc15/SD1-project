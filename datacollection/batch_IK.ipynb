{
 "cells": [
  {
   "cell_type": "code",
   "execution_count": 1,
   "metadata": {},
   "outputs": [
    {
     "name": "stdout",
     "output_type": "stream",
     "text": [
      "Requirement already satisfied: tqdm in c:\\users\\saile\\anaconda3\\envs\\opensim_scripting\\lib\\site-packages (4.66.4)\n",
      "Requirement already satisfied: colorama in c:\\users\\saile\\anaconda3\\envs\\opensim_scripting\\lib\\site-packages (from tqdm) (0.4.6)\n"
     ]
    }
   ],
   "source": [
    "#this notebook is for running batch jobs on opensim\n",
    "!pip install tqdm\n",
    "import opensim as osim\n",
    "import os\n",
    "from tqdm import tqdm\n",
    "import logging"
   ]
  },
  {
   "cell_type": "code",
   "execution_count": 2,
   "metadata": {},
   "outputs": [
    {
     "name": "stdout",
     "output_type": "stream",
     "text": [
      "b:\\SharedFolder\\School\\Ucf\\SpringSem2024\\SeniorDesign\\SD1-project\\datacollection\n"
     ]
    }
   ],
   "source": [
    "import os\n",
    "\n",
    "#print current working directory\n",
    "print(os.getcwd())\n",
    "\n",
    "def run_inverse_kinematics(scaled_model_file, trc_file, ik_setup_file, output_dir):\n",
    "    try:\n",
    "        # Check if files exist before processing\n",
    "        if not os.path.exists(scaled_model_file):\n",
    "            raise FileNotFoundError(f\"Scaled model file not found: {scaled_model_file}\")\n",
    "        if not os.path.exists(trc_file):\n",
    "            raise FileNotFoundError(f\"TRC file not found: {trc_file}\")\n",
    "        if not os.path.exists(ik_setup_file):\n",
    "            raise FileNotFoundError(f\"IK setup file not found: {ik_setup_file}\")\n",
    "\n",
    "        model = osim.Model(scaled_model_file)\n",
    "        ik_tool = osim.InverseKinematicsTool(ik_setup_file)\n",
    "        ik_tool.setModel(model)\n",
    "        ik_tool.setMarkerDataFileName(trc_file)\n",
    "        output_file = os.path.join(output_dir, os.path.basename(trc_file).replace('.trc', '.mot'))\n",
    "        ik_tool.setOutputMotionFileName(output_file)\n",
    "\n",
    "        # Additional logging for debug purposes\n",
    "        logging.debug(f\"Running IK Tool with model: {scaled_model_file}, TRC: {trc_file}, Setup: {ik_setup_file}, Output: {output_file}\")\n",
    "        \n",
    "        ik_tool.run()\n",
    "    except Exception as e:\n",
    "        logging.error(f\"Error processing {trc_file}: {e}\")\n",
    "        print(f\"Error processing {trc_file}: {e}\")\n",
    "\n",
    "# Wrapper function to process all subjects\n",
    "def process_all_subjects(base_dir, subjects, ik_setup_file):\n",
    "    for subject in subjects:\n",
    "        scaled_model_file = os.path.join(base_dir, 'opensim','models', f'subject_{subject}.osim')\n",
    "        trc_files_dir = os.path.join(base_dir, 'vicon', f'subject_{subject}', 'motion')\n",
    "        output_dir = os.path.join(base_dir, 'vicon', f'subject_{subject}', 'processed')\n",
    "\n",
    "        if not os.path.exists(output_dir):\n",
    "            os.makedirs(output_dir)\n",
    "\n",
    "        trc_files = [f for f in os.listdir(trc_files_dir) if f.endswith('.trc')]\n",
    "\n",
    "        for trc_file in tqdm(trc_files, desc=f'Processing subject_{subject}'):\n",
    "            trc_file_path = os.path.join(trc_files_dir, trc_file)\n",
    "            logging.debug(f\"Processing file: {trc_file_path}\")  # Debug print\n",
    "            run_inverse_kinematics(scaled_model_file, trc_file_path, ik_setup_file, output_dir)\n"
   ]
  },
  {
   "cell_type": "code",
   "execution_count": 3,
   "metadata": {},
   "outputs": [
    {
     "ename": "SyntaxError",
     "evalue": "(unicode error) 'unicodeescape' codec can't decode bytes in position 22-25: truncated \\UXXXXXXXX escape (3551756546.py, line 1)",
     "output_type": "error",
     "traceback": [
      "\u001b[1;36m  Cell \u001b[1;32mIn[3], line 1\u001b[1;36m\u001b[0m\n\u001b[1;33m    base_dir = 'b:\\SharedFolder\\School\\Ucf\\SpringSem2024\\SeniorDesign\\SD1-project\\datacollection'\u001b[0m\n\u001b[1;37m               ^\u001b[0m\n\u001b[1;31mSyntaxError\u001b[0m\u001b[1;31m:\u001b[0m (unicode error) 'unicodeescape' codec can't decode bytes in position 22-25: truncated \\UXXXXXXXX escape\n"
     ]
    }
   ],
   "source": [
    "\n",
    "base_dir = 'b:\\\\SharedFolder\\\\School\\\\Ucf\\\\SpringSem2024\\\\SeniorDesign\\\\SD1-project\\\\datacollection'\n",
    "\n",
    "subjects = [1]  # List of subjects to process\n",
    "ik_setup_file = 'opensim/ik_weights.xml'\n",
    "\n",
    "process_all_subjects(base_dir, subjects, ik_setup_file)"
   ]
  },
  {
   "cell_type": "code",
   "execution_count": null,
   "metadata": {},
   "outputs": [
    {
     "name": "stdout",
     "output_type": "stream",
     "text": [
      " Volume in drive B is HardDisk\n",
      " Volume Serial Number is 6846-0AC3\n",
      "\n",
      " Directory of b:\\SharedFolder\\School\\Ucf\\SpringSem2024\\SeniorDesign\\SD1-project\\datacollection\\vicon\\subject_1\\motion\n",
      "\n",
      "06/27/2024  10:00 PM    <DIR>          .\n",
      "06/25/2024  10:06 PM    <DIR>          ..\n",
      "06/25/2024  12:35 AM         6,071,759 P001_T001_armSwing_fast.trc\n",
      "06/25/2024  12:35 AM         6,065,842 P001_T001_armSwing_normal.trc\n",
      "06/25/2024  12:35 AM         5,920,080 P001_T001_armSwing_slow.trc\n",
      "06/25/2024  12:35 AM         5,965,470 P001_T001_armSwing_veryfast.trc\n",
      "06/25/2024  12:35 AM         6,298,543 P001_T001_crossbody_fast.trc\n",
      "06/25/2024  12:35 AM         6,351,957 P001_T001_crossbody_normal.trc\n",
      "06/25/2024  12:35 AM         6,229,244 P001_T001_crossbody_slow.trc\n",
      "06/25/2024  12:35 AM         5,997,363 P001_T001_elbowflexion_fast.trc\n",
      "06/25/2024  12:35 AM         6,148,828 P001_T001_elbowflexion_normal.trc\n",
      "06/25/2024  12:35 AM         6,200,795 P001_T001_elbowflexion_slow.trc\n",
      "06/25/2024  12:35 AM         6,069,891 P001_T001_elbowrotation_fast.trc\n",
      "06/25/2024  12:35 AM         6,044,780 P001_T001_elbowrotation_normal.trc\n",
      "06/25/2024  12:35 AM         6,335,756 P001_T001_elbowrotation_slow.trc\n",
      "06/25/2024  12:35 AM         6,044,939 P001_T001_overheadreach_45.trc\n",
      "06/25/2024  12:35 AM         6,289,663 P001_T001_overheadreach_90.trc\n",
      "06/25/2024  12:35 AM         6,286,757 P001_T001_overheadreach_max.trc\n",
      "              16 File(s)     98,321,667 bytes\n",
      "               2 Dir(s)  205,379,661,824 bytes free\n"
     ]
    }
   ],
   "source": [
    "!dir vicon\\subject_1\\motion"
   ]
  },
  {
   "cell_type": "code",
   "execution_count": null,
   "metadata": {},
   "outputs": [],
   "source": []
  }
 ],
 "metadata": {
  "kernelspec": {
   "display_name": "Python 3",
   "language": "python",
   "name": "python3"
  },
  "language_info": {
   "codemirror_mode": {
    "name": "ipython",
    "version": 3
   },
   "file_extension": ".py",
   "mimetype": "text/x-python",
   "name": "python",
   "nbconvert_exporter": "python",
   "pygments_lexer": "ipython3",
   "version": "3.8.19"
  }
 },
 "nbformat": 4,
 "nbformat_minor": 2
}
