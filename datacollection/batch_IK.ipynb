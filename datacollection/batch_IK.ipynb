{
 "cells": [
  {
   "cell_type": "code",
   "execution_count": 1,
   "metadata": {},
   "outputs": [],
   "source": [
    "#this notebook is for running batch jobs on opensim\n",
    "\n",
    "import opensim as osim\n",
    "import os\n",
    "from tqdm import tqdm\n",
    "\n",
    "# Function to perform inverse kinematics on a single TRC file\n",
    "def run_inverse_kinematics(scaled_model_file, trc_file, ik_setup_file, output_dir):\n",
    "    # Load the scaled model\n",
    "    model = osim.Model(scaled_model_file)\n",
    "    \n",
    "    # Create an InverseKinematicsTool\n",
    "    ik_tool = osim.InverseKinematicsTool(ik_setup_file)\n",
    "    ik_tool.setModel(model)\n",
    "    ik_tool.setMarkerDataFileName(trc_file)\n",
    "    \n",
    "    # Set the output file name\n",
    "    output_file = os.path.join(output_dir, os.path.basename(trc_file).replace('.trc', '_ik.mot'))\n",
    "    ik_tool.setOutputMotionFileName(output_file)\n",
    "    \n",
    "    # Run the inverse kinematics tool\n",
    "    ik_tool.run()"
   ]
  },
  {
   "cell_type": "code",
   "execution_count": 2,
   "metadata": {},
   "outputs": [],
   "source": [
    "scaled_model_file = 'vicon/subject_1/subject_1.osim'\n",
    "ik_setup_file = 'vicon/ik_weights.xml'\n",
    "trc_files_dir = 'motion'\n",
    "output_dir = 'vicon/subject_1/processed'"
   ]
  },
  {
   "cell_type": "code",
   "execution_count": null,
   "metadata": {},
   "outputs": [],
   "source": [
    "#need to setup api on windows TODO"
   ]
  }
 ],
 "metadata": {
  "kernelspec": {
   "display_name": "Python 3",
   "language": "python",
   "name": "python3"
  },
  "language_info": {
   "codemirror_mode": {
    "name": "ipython",
    "version": 3
   },
   "file_extension": ".py",
   "mimetype": "text/x-python",
   "name": "python",
   "nbconvert_exporter": "python",
   "pygments_lexer": "ipython3",
   "version": "3.12.2"
  }
 },
 "nbformat": 4,
 "nbformat_minor": 2
}
